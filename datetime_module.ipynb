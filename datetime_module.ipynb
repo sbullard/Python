{
 "cells": [
  {
   "cell_type": "markdown",
   "metadata": {},
   "source": [
    "# Time and Datetime Modules\n",
    "---\n",
    "**This notebook goes over the Time and Datetime modules.**"
   ]
  },
  {
   "cell_type": "markdown",
   "metadata": {},
   "source": [
    "## Time Module\n",
    "\n",
    "The time module allows for very basic time-related functions. Time is given in seconds since the epoch, which is the point we currently us for when time starts, time 0.0 seconds if you will.\n",
    "\n",
    "The epoch is currently Jan 1, 1970 00:00:000"
   ]
  },
  {
   "cell_type": "code",
   "execution_count": 3,
   "metadata": {},
   "outputs": [
    {
     "name": "stdout",
     "output_type": "stream",
     "text": [
      "['_STRUCT_TM_ITEMS', '__doc__', '__loader__', '__name__', '__package__', '__spec__', 'altzone', 'asctime', 'clock', 'ctime', 'daylight', 'get_clock_info', 'gmtime', 'localtime', 'mktime', 'monotonic', 'monotonic_ns', 'perf_counter', 'perf_counter_ns', 'process_time', 'process_time_ns', 'sleep', 'strftime', 'strptime', 'struct_time', 'thread_time', 'thread_time_ns', 'time', 'time_ns', 'timezone', 'tzname']\n",
      "\n",
      "time.struct_time(tm_year=1970, tm_mon=1, tm_mday=1, tm_hour=0, tm_min=0, tm_sec=0, tm_wday=3, tm_yday=1, tm_isdst=0)\n",
      "\n",
      "1584205721\n"
     ]
    }
   ],
   "source": [
    "import time\n",
    "\n",
    "print(dir(time))\n",
    "\n",
    "print()\n",
    "\n",
    "#epoch (jan 1, 1970)\n",
    "print(time.gmtime(0))\n",
    "\n",
    "print()\n",
    "\n",
    "# todays date in seconds since epoch\n",
    "print(int(time.time()))"
   ]
  },
  {
   "cell_type": "markdown",
   "metadata": {},
   "source": [
    "## Datetime Module\n",
    "\n",
    "The datetime module supplies classes for manipulation dates and times and offers more funcionality than the time module. "
   ]
  },
  {
   "cell_type": "code",
   "execution_count": 5,
   "metadata": {
    "scrolled": true
   },
   "outputs": [
    {
     "data": {
      "text/plain": [
       "['MAXYEAR',\n",
       " 'MINYEAR',\n",
       " '__builtins__',\n",
       " '__cached__',\n",
       " '__doc__',\n",
       " '__file__',\n",
       " '__loader__',\n",
       " '__name__',\n",
       " '__package__',\n",
       " '__spec__',\n",
       " 'date',\n",
       " 'datetime',\n",
       " 'datetime_CAPI',\n",
       " 'sys',\n",
       " 'time',\n",
       " 'timedelta',\n",
       " 'timezone',\n",
       " 'tzinfo']"
      ]
     },
     "execution_count": 5,
     "metadata": {},
     "output_type": "execute_result"
    }
   ],
   "source": [
    "import datetime as dt\n",
    "\n",
    "# Note: all caps (MAXYEAR, MINYEAR) are constants\n",
    "# Note: lowercase (date, datetime, sys, time, timedelta, etc.) should signify\n",
    "#       functions, but here they are classes. Class names should start with\n",
    "#       uppercase letters, but devs don't always do this\n",
    "dir(dt)"
   ]
  },
  {
   "cell_type": "code",
   "execution_count": 7,
   "metadata": {},
   "outputs": [
    {
     "name": "stdout",
     "output_type": "stream",
     "text": [
      "<class 'type'>\n",
      "\n",
      "1956-01-31\n",
      "1956\n",
      "1\n",
      "31\n"
     ]
    }
   ],
   "source": [
    "# date class \n",
    "# default is yyyy, mm, dd\n",
    "# see help(dt.date) for more info\n",
    "\n",
    "print(type(dt.date))\n",
    "print()\n",
    "\n",
    "d1 = dt.date(1956, 1, 31)\n",
    "print(d1)\n",
    "print(d1.year)\n",
    "print(d1.month)\n",
    "print(d1.day)"
   ]
  },
  {
   "cell_type": "code",
   "execution_count": 33,
   "metadata": {},
   "outputs": [
    {
     "name": "stdout",
     "output_type": "stream",
     "text": [
      "2000-04-10\n"
     ]
    }
   ],
   "source": [
    "# timedelta class allows dates to be added/subtracted from one another\n",
    "\n",
    "d2 = dt.date(2000, 1, 1)\n",
    "d3 = dt.timedelta(100) #increases by 100 days\n",
    "print(d2 + d3)"
   ]
  },
  {
   "cell_type": "markdown",
   "metadata": {},
   "source": [
    "### Formatting dates and times \n",
    "---\n",
    "All formatting letters are explained at bottom of:<br>\n",
    "https://docs.python.org/3/library/datetime.html#available-types"
   ]
  },
  {
   "cell_type": "code",
   "execution_count": 9,
   "metadata": {},
   "outputs": [
    {
     "name": "stdout",
     "output_type": "stream",
     "text": [
      "Thursday, October, 12, 1978\n",
      "I was born on Thursday, October, 12, 1978\n"
     ]
    }
   ],
   "source": [
    "# Example 1: Convert to Day-Name, Month-name, Year\n",
    "\n",
    "d4 = dt.date(1978, 10, 12)\n",
    "\n",
    "# Method 1: Convert datetime object to string using strftime('format')\n",
    "print(d4.strftime('%A, %B, %d, %Y'))\n",
    "\n",
    "# Method 2: Pass String with format into format() function\n",
    "print('I was born on {:%A, %B, %d, %Y}'.format(d4))"
   ]
  },
  {
   "cell_type": "code",
   "execution_count": 106,
   "metadata": {},
   "outputs": [
    {
     "name": "stdout",
     "output_type": "stream",
     "text": [
      "2017-03-30\n",
      "22:27:00\n",
      "2017-03-30 22:27:00\n",
      "\n",
      "launch year: 2017\n",
      "launch hour: 22\n"
     ]
    }
   ],
   "source": [
    "# This example uses date,time and datetime classes for a shuttle launch\n",
    "\n",
    "launch_date = dt.date(2017, 3, 30) # YYYY, MM, DD\n",
    "launch_time = dt.time(22, 27, 0) # Hrs, Min, Sec\n",
    "launch_datetime = dt.datetime(2017, 3, 30, 22, 27, 0)\n",
    "\n",
    "print(launch_date)\n",
    "print(launch_time)\n",
    "print(launch_datetime)\n",
    "\n",
    "print()\n",
    "print(f'launch year: {launch_date.year}')\n",
    "print(f'launch hour: {launch_time.hour}')"
   ]
  },
  {
   "cell_type": "code",
   "execution_count": 64,
   "metadata": {},
   "outputs": [
    {
     "name": "stdout",
     "output_type": "stream",
     "text": [
      "2019-07-01\n",
      "2019-07-01 14:02:04.209535\n",
      "209535\n"
     ]
    }
   ],
   "source": [
    "# Get Current date and time\n",
    "\n",
    "today_date = dt.date.today()\n",
    "dt_now = dt.datetime.today()\n",
    "\n",
    "print(today_date)\n",
    "print(dt_now)\n",
    "\n",
    "#note the dt_now goes down to the microsecond, these can also be accessed\n",
    "print(dt_now.microsecond)"
   ]
  },
  {
   "cell_type": "code",
   "execution_count": 92,
   "metadata": {},
   "outputs": [
    {
     "name": "stdout",
     "output_type": "stream",
     "text": [
      "<class 'datetime.datetime'>\n",
      "1979-07-20 00:00:00\n"
     ]
    }
   ],
   "source": [
    "# Converting Strings Into DateTime Objects using strptime()\n",
    "\n",
    "moon_landing_date = '7/20/1979'\n",
    "ml_dt = dt.datetime.strptime(moon_landing_date, '%m/%d/%Y')\n",
    "print(type(ml_dt))\n",
    "print(ml_dt)"
   ]
  },
  {
   "cell_type": "code",
   "execution_count": 73,
   "metadata": {},
   "outputs": [
    {
     "name": "stdout",
     "output_type": "stream",
     "text": [
      "<class 'str'>\n",
      "07/20/1969\n"
     ]
    }
   ],
   "source": [
    "# Convert Datetime to String Using strftime()\n",
    "\n",
    "ml_str = dt.datetime.strftime(ml_dt, '%m/%d/%Y')\n",
    "print(type(ml_str))\n",
    "print(ml_str)"
   ]
  },
  {
   "cell_type": "code",
   "execution_count": 103,
   "metadata": {},
   "outputs": [
    {
     "name": "stdout",
     "output_type": "stream",
     "text": [
      "<class 'datetime.date'>\n",
      "2018-06-15\n",
      "2018-06-15 in seconds since epoch: 1529035200.0\n"
     ]
    }
   ],
   "source": [
    "# convert Datetime to Seconds since Epoch\n",
    "\n",
    "dt5 = dt.date(2018, 6, 15)\n",
    "print(type(dt5))\n",
    "print(dt5)\n",
    "print(f'2018-06-15 in seconds since epoch: {time.mktime(dt5.timetuple())}')"
   ]
  },
  {
   "cell_type": "code",
   "execution_count": null,
   "metadata": {},
   "outputs": [],
   "source": [
    "# TODO Put Bday from Pandas here and Calendar as well"
   ]
  }
 ],
 "metadata": {
  "kernelspec": {
   "display_name": "Python 3",
   "language": "python",
   "name": "python3"
  },
  "language_info": {
   "codemirror_mode": {
    "name": "ipython",
    "version": 3
   },
   "file_extension": ".py",
   "mimetype": "text/x-python",
   "name": "python",
   "nbconvert_exporter": "python",
   "pygments_lexer": "ipython3",
   "version": "3.7.6"
  }
 },
 "nbformat": 4,
 "nbformat_minor": 2
}
