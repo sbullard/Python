{
 "cells": [
  {
   "cell_type": "markdown",
   "metadata": {},
   "source": [
    "# Functions\n",
    "---\n",
    "A function is a block of reusable code that ideally performs a single action. A function takes any number of input arguments and returns a value based on the arguments given."
   ]
  },
  {
   "cell_type": "code",
   "execution_count": 1,
   "metadata": {},
   "outputs": [
    {
     "name": "stdout",
     "output_type": "stream",
     "text": [
      "this sentence ran with print(function_name())\n",
      "This sentence ran with func()\n",
      "\n",
      "<class 'function'>\n"
     ]
    }
   ],
   "source": [
    "# Python Function Creation\n",
    "\n",
    "# Functions are defined in Python using the def keyword:\n",
    "def function_name():\n",
    "    s = 'this sentence ran with print(function_name())'\n",
    "    return(s)\n",
    "\n",
    "print(function_name())\n",
    "\n",
    "# The above function returns the sentence, but does not print it, therefore\n",
    "# print is required to see the output. \n",
    "# To avoid using print like above, print the sentence inside of the function\n",
    "def func():\n",
    "    print('This sentence ran with func() only')\n",
    "    \n",
    "func()\n",
    "\n",
    "# Function type\n",
    "print()\n",
    "print(type(func))"
   ]
  },
  {
   "cell_type": "code",
   "execution_count": 2,
   "metadata": {},
   "outputs": [
    {
     "name": "stdout",
     "output_type": "stream",
     "text": [
      "Original Notebook Directory\n",
      "['In', 'Out', '_', '__', '___', '__builtin__', '__builtins__', '__doc__', '__loader__', '__name__', '__package__', '__spec__', '_dh', '_i', '_i1', '_i2', '_ih', '_ii', '_iii', '_oh', 'exit', 'func', 'function_name', 'get_ipython', 'quit']\n",
      "\n",
      "\n",
      "Updated Notebook Directory to include new functions\n",
      "['In', 'Out', '_', '__', '___', '__builtin__', '__builtins__', '__doc__', '__loader__', '__name__', '__package__', '__spec__', '_dh', '_i', '_i1', '_i2', '_ih', '_ii', '_iii', '_oh', 'exit', 'func', 'func2', 'function_name', 'get_ipython', 'quit']\n"
     ]
    }
   ],
   "source": [
    "# When a module contains functions, they are automatically added to the \n",
    "# modules directory upon creation. This is shown below:\n",
    "\n",
    "# This is the directory of this jupyter notebook, notice function_name()\n",
    "# and func() havae already been added as they were created in the cell above:\n",
    "print('Original Notebook Directory')\n",
    "print(dir())\n",
    "print()\n",
    "print()\n",
    "\n",
    "# Once a function is defined, it is added to the directory it resides in. \n",
    "def func2():\n",
    "    pass\n",
    "\n",
    "# Now func2() shows up in the directory list\n",
    "print('Updated Notebook Directory to include new functions')\n",
    "print(dir())\n",
    "\n",
    "# For more info on directories, see the modules_and_packages notebook"
   ]
  },
  {
   "cell_type": "markdown",
   "metadata": {},
   "source": [
    "## Function Arguments\n",
    "---\n",
    "Functions can take any number of arguments. There are a few different types \n",
    "of arguments that a function can use:\n",
    "\n",
    "1. Required Argument\n",
    "2. Default Argument (aka, Keyword Argument)\n",
    "3. \\*args\n",
    "4. \\*\\*kwargs\n",
    "5. \\*args and \\*\\*kwargs"
   ]
  },
  {
   "cell_type": "markdown",
   "metadata": {},
   "source": [
    "### 1. Required Arguments\n",
    "Required function arguments are the most common argument type and signify an input value that MUST be entered when calling the function for it to work."
   ]
  },
  {
   "cell_type": "code",
   "execution_count": 40,
   "metadata": {},
   "outputs": [
    {
     "data": {
      "text/plain": [
       "33.510321638291124"
      ]
     },
     "execution_count": 40,
     "metadata": {},
     "output_type": "execute_result"
    }
   ],
   "source": [
    "# 'radius' is the required argument for this function\n",
    "\n",
    "def volume(radius):\n",
    "    \"\"\"Returns the volume of a sphere with radius r.\"\"\"\n",
    "    v = (4.0/3.0) * math.pi * radius**3\n",
    "    return v\n",
    "\n",
    "volume(2)"
   ]
  },
  {
   "cell_type": "code",
   "execution_count": 42,
   "metadata": {},
   "outputs": [
    {
     "data": {
      "text/plain": [
       "9.0"
      ]
     },
     "execution_count": 42,
     "metadata": {},
     "output_type": "execute_result"
    }
   ],
   "source": [
    "# Here there are two required arguments, note that order matters when calling\n",
    "# the function\n",
    "\n",
    "def triangle_area(b, h):\n",
    "    \"\"\"Returns the area of a triangle with base b and hight h.\"\"\"\n",
    "    return 0.5 * b * h\n",
    "\n",
    "triangle_area(3, 6)"
   ]
  },
  {
   "cell_type": "markdown",
   "metadata": {},
   "source": [
    "### 2. Default Arguments (aka Keyword Arguments)\n",
    "Default arguments are used in order for a function argument to always have a value even if the user does not enter one themselves."
   ]
  },
  {
   "cell_type": "code",
   "execution_count": 48,
   "metadata": {},
   "outputs": [
    {
     "name": "stdout",
     "output_type": "stream",
     "text": [
      "152.4\n",
      "177.8\n",
      "172.72\n",
      "172.72\n"
     ]
    }
   ],
   "source": [
    "# This example converts ft/inch to cm, 1 inch = 2.54 cm, 1 ft = 12 inch\n",
    "\n",
    "# 'feet' and 'inches' are the default arguments and they both default to 0\n",
    "# if a user does not explicitely enter a value\n",
    "def cm(feet = 0, inches = 0):\n",
    "    \"\"\"Converts a length from ft and inches to centimeters\"\"\"\n",
    "    inches_to_cm = inches * 2.54\n",
    "    ft_to_cm = feet * 12 * 2.54\n",
    "    return inches_to_cm + ft_to_cm\n",
    "\n",
    "print(cm(feet=5)) # converts 5 ft to cm\n",
    "print(cm(inches=70)) # converts 70 inches to cm\n",
    "print(cm(feet=5, inches=8)) # converts 5 ft 8 inches to cm\n",
    "\n",
    "# Note that default arguments do not have to be in order\n",
    "print(cm(inches=8, feet=5))"
   ]
  },
  {
   "cell_type": "code",
   "execution_count": 52,
   "metadata": {},
   "outputs": [
    {
     "data": {
      "text/plain": [
       "5"
      ]
     },
     "execution_count": 52,
     "metadata": {},
     "output_type": "execute_result"
    }
   ],
   "source": [
    "# Note that required arguments and default arguments can be declared together,\n",
    "# but default args must go after required args if so.\n",
    "\n",
    "# This raises an error\n",
    "# def h(x=0, y):\n",
    "#    return x + y\n",
    "\n",
    "def h(y, x=0):\n",
    "    return x + y\n",
    "\n",
    "h(5)"
   ]
  },
  {
   "cell_type": "markdown",
   "metadata": {},
   "source": [
    "### 3. \\*args\n",
    "When creating a function, sometimes the number of arguments is optional or arbitrary. \n",
    "\n",
    "\\*args is used to pass any number of REQUIRED arguments into a function as a tuple\n",
    "\n",
    "Note: that args is just used by convention, any word could be used instead."
   ]
  },
  {
   "cell_type": "code",
   "execution_count": 30,
   "metadata": {},
   "outputs": [
    {
     "name": "stdout",
     "output_type": "stream",
     "text": [
      "4\n",
      "\n",
      "(2, 3, 4, 5)\n",
      "14\n",
      "\n",
      "(10, 20, 30, 40, 50)\n",
      "150\n",
      "\n",
      "(3, 4, 5)\n",
      "12\n"
     ]
    }
   ],
   "source": [
    "# *args example 1 using numbers\n",
    "\n",
    "# The first add() fucntion contains 2 required arguments\n",
    "# that are summed together. This problem with this is that if you want\n",
    "# to sum more than 2 values together, you can't. \n",
    "def add(num1, num2):\n",
    "    return num1 + num2\n",
    "print(add(2,2))\n",
    "print()\n",
    "\n",
    "# Enter add2, which uses *nums (did this to prove it works, normally use args)\n",
    "# which allows for any number of arguments to be entered and summed together\n",
    "def add2(*nums):\n",
    "    print(nums)      #note: nums passed in as tuple\n",
    "    return sum(nums)\n",
    "\n",
    "print(add2(2,3,4,5))\n",
    "print()\n",
    "\n",
    "print(add2(10,20,30,40,50))\n",
    "print()\n",
    "\n",
    "test = add2(3,4,5)\n",
    "print(test)"
   ]
  },
  {
   "cell_type": "code",
   "execution_count": 31,
   "metadata": {},
   "outputs": [
    {
     "name": "stdout",
     "output_type": "stream",
     "text": [
      "My Blogs\n",
      "('Stock Market Has Been Tanking', 'Oil Market Collapses', 'Finally, a Bounce')\n",
      "-----------------------\n",
      "Stock Market Has Been Tanking\n",
      "Oil Market Collapses\n",
      "Finally, a Bounce\n"
     ]
    }
   ],
   "source": [
    "# *args Example 2 using strings\n",
    "\n",
    "blog_1 = 'Stock Market Has Been Tanking'\n",
    "blog_2 = 'Oil Market Collapses'\n",
    "blog_3 = 'Finally, a Bounce'\n",
    "\n",
    "site_name = 'My Blogs'\n",
    "\n",
    "def blog_posts(title, *args):\n",
    "    print(title)\n",
    "    print(args) # note: args is passed in as tuple\n",
    "    print('-----------------------')\n",
    "    for post in args:\n",
    "        print(post)\n",
    "        \n",
    "blog_posts(site_name, blog_1, blog_2, blog_3)"
   ]
  },
  {
   "cell_type": "markdown",
   "metadata": {},
   "source": [
    "### 4. \\*kwargs\n",
    "The special syntax \\*\\*kwargs is used to pass any number of DEFAULT arguments to a function. \n",
    "\\*\\*kwargs is  passed into a function as a dictionary"
   ]
  },
  {
   "cell_type": "code",
   "execution_count": 34,
   "metadata": {
    "scrolled": true
   },
   "outputs": [
    {
     "name": "stdout",
     "output_type": "stream",
     "text": [
      "<class 'tuple'>\n",
      "('Paul', 40, 'yes')\n",
      "\n",
      "<class 'dict'>\n",
      "{'name': 'Paul', 'age': 40, 'male': 'yes'}\n"
     ]
    }
   ],
   "source": [
    "# **kwargs Example 1\n",
    "\n",
    "# record() uses regular default arguments (and not **kwargs).\n",
    "# Note that a tuple is passed in with only the values and no keys\n",
    "def record(name=\"Paul\", age=40, male=\"yes\"):\n",
    "    return(name, age, male)\n",
    " \n",
    "print(type(record()))\n",
    "print(record())\n",
    "\n",
    "print()\n",
    "\n",
    "# record2() uses **kwargs which is passed in as a dictionary\n",
    "def record2(**kwargs):\n",
    "    return kwargs\n",
    "\n",
    "print(type(record2()))\n",
    "print(record2(name=\"Paul\", age=40, male=\"yes\"))"
   ]
  },
  {
   "cell_type": "code",
   "execution_count": 37,
   "metadata": {},
   "outputs": [
    {
     "name": "stdout",
     "output_type": "stream",
     "text": [
      "My Blogs\n",
      "-----------------------\n",
      "blog_1 : Stock Market Collapses\n",
      "blog_2 : Oil Market Stabalizes\n",
      "blog_3 : Finally a Green Day\n"
     ]
    }
   ],
   "source": [
    "# **kwargs Example 2\n",
    "\n",
    "# Because kwargs are dictionaires, dict.items() must be used\n",
    "# when looping\n",
    "\n",
    "site_name = 'My Blogs'\n",
    "\n",
    "def blog_posts2(title, **kwargs):\n",
    "    print(title)\n",
    "    print('-----------------------')\n",
    "    for p_title, post in kwargs.items():\n",
    "        print(f'{p_title} : {post}')\n",
    "        \n",
    "blog_posts2(site_name, \n",
    "            blog_1 = 'Stock Market Collapses',\n",
    "            blog_2 = 'Oil Market Stabalizes',\n",
    "            blog_3 = 'Finally a Green Day')"
   ]
  },
  {
   "cell_type": "markdown",
   "metadata": {},
   "source": [
    "### 4.  \\*args & \\*kwargs\n",
    "A function can contain required arguments along \\*args and \\*\\*kwargs."
   ]
  },
  {
   "cell_type": "code",
   "execution_count": 111,
   "metadata": {},
   "outputs": [
    {
     "name": "stdout",
     "output_type": "stream",
     "text": [
      "My Blogs\n",
      "-----------------------\n",
      "1\n",
      "2\n",
      "3\n",
      "blog_1 : F the Stock market\n",
      "blog_2 : Steelers Kill\n",
      "blog_3 : The Bastard Musician\n"
     ]
    }
   ],
   "source": [
    "# Note that args can be thought of as a list \n",
    "# and kwargs args as a dictionary. \n",
    "# This is not exactly what is going on, but close, sort of like this:\n",
    "# def func(a, \\*args=[], \\*\\*kwargs={})\n",
    "\n",
    "site_name = 'My Blogs'\n",
    "\n",
    "def blog_posts2(title, *args, **kwargs):\n",
    "    print(title)\n",
    "    print('-----------------------')\n",
    "    for arg in args:\n",
    "        print(arg)\n",
    "    for p_title, post in kwargs.items():\n",
    "        print(f'{p_title} : {post}')\n",
    "        \n",
    "blog_posts2(site_name, 1, 2, 3, \n",
    "            blog_1 = 'F the Stock market',\n",
    "            blog_2 = 'Steelers Kill',\n",
    "            blog_3 = 'The Bastard Musician')"
   ]
  },
  {
   "cell_type": "markdown",
   "metadata": {},
   "source": [
    "## Decorator Functions\n",
    "---\n",
    "In order to fully understand decorators, a deeper understanding of functions is required. Thre are 3 main topics that need to be understood:\n",
    "1. First-Class Objects\n",
    "2. Inner Functions\n",
    "3. Returning Functions From Functions"
   ]
  },
  {
   "cell_type": "markdown",
   "metadata": {},
   "source": [
    "### 1. First-Class Objects\n",
    "In Python, functions are first-class objects, that is, they can be used as arguments in other functions (or passed into another function)"
   ]
  },
  {
   "cell_type": "code",
   "execution_count": 40,
   "metadata": {},
   "outputs": [
    {
     "name": "stdout",
     "output_type": "stream",
     "text": [
      "Hello Paul\n"
     ]
    }
   ],
   "source": [
    "# First-Class Objects example\n",
    "\n",
    "# Here the hello function is just a regular function, but the greet function\n",
    "# requires a function as its argument, notice that \n",
    "def hello(name):\n",
    "    return f'Hello {name}'\n",
    "\n",
    "# Note that function is passed in without (), this means only a reference to\n",
    "# the function is passed in and it is not executed. The return statement is \n",
    "# where the function execution occurs\n",
    "def greet(function):\n",
    "    return function('Paul')\n",
    "\n",
    "print(greet(hello))"
   ]
  },
  {
   "cell_type": "markdown",
   "metadata": {},
   "source": [
    "### 2. Inner Functions\n",
    "An inner function is just a function defined inside of another function.\n",
    "\n",
    "Inner functions are not defined until a parent function is called and exist in the parent function as local variables. "
   ]
  },
  {
   "cell_type": "code",
   "execution_count": 43,
   "metadata": {},
   "outputs": [
    {
     "name": "stdout",
     "output_type": "stream",
     "text": [
      "Printing from the parent() function\n",
      "Printing from the second_child() function\n",
      "Printing from the first_child() function\n"
     ]
    },
    {
     "ename": "NameError",
     "evalue": "name 'second_child' is not defined",
     "output_type": "error",
     "traceback": [
      "\u001b[1;31m---------------------------------------------------------------------------\u001b[0m",
      "\u001b[1;31mNameError\u001b[0m                                 Traceback (most recent call last)",
      "\u001b[1;32m<ipython-input-43-2dde1282ff20>\u001b[0m in \u001b[0;36m<module>\u001b[1;34m\u001b[0m\n\u001b[0;32m     14\u001b[0m \u001b[0mparent\u001b[0m\u001b[1;33m(\u001b[0m\u001b[1;33m)\u001b[0m\u001b[1;33m\u001b[0m\u001b[1;33m\u001b[0m\u001b[0m\n\u001b[0;32m     15\u001b[0m \u001b[1;33m\u001b[0m\u001b[0m\n\u001b[1;32m---> 16\u001b[1;33m \u001b[0msecond_child\u001b[0m\u001b[1;33m(\u001b[0m\u001b[1;33m)\u001b[0m\u001b[1;33m\u001b[0m\u001b[1;33m\u001b[0m\u001b[0m\n\u001b[0m",
      "\u001b[1;31mNameError\u001b[0m: name 'second_child' is not defined"
     ]
    }
   ],
   "source": [
    "def parent():\n",
    "    print(\"Printing from the parent() function\")\n",
    "\n",
    "    def first_child():\n",
    "        print(\"Printing from the first_child() function\")\n",
    "\n",
    "    def second_child():\n",
    "        print(\"Printing from the second_child() function\")\n",
    "\n",
    "    # note here calling order does not matter after functions declared\n",
    "    second_child()\n",
    "    first_child()\n",
    "\n",
    "# Calling the parent works as expected, but....\n",
    "parent()\n",
    "\n",
    "# ...second_child() does not not work due to its local scope\n",
    "second_child()"
   ]
  },
  {
   "cell_type": "markdown",
   "metadata": {},
   "source": [
    "### 3. Returning Functions From Functions and Closure\n",
    "Python allows functions to be return values of another function. "
   ]
  },
  {
   "cell_type": "code",
   "execution_count": 58,
   "metadata": {},
   "outputs": [
    {
     "name": "stdout",
     "output_type": "stream",
     "text": [
      "<function parent.<locals>.first_child at 0x0000023E1D800948>\n",
      "<function parent.<locals>.second_child at 0x0000023E1D800DC8>\n",
      "\n",
      "Hi, I am Emma\n",
      "Call me Liam\n"
     ]
    }
   ],
   "source": [
    "# Returning Functions From Functions\n",
    "\n",
    "def parent(num):\n",
    "    \n",
    "    # inner function 1\n",
    "    def first_child():\n",
    "        return \"Hi, I am Emma\"\n",
    "    \n",
    "    # inner function 2\n",
    "    def second_child():\n",
    "        return \"Call me Liam\"\n",
    "    \n",
    "    # if statement determining which inner function to return \n",
    "    if num == 1:\n",
    "        return first_child  # note, no parens ()\n",
    "    else:\n",
    "        return second_child # note, no parens ()\n",
    "\n",
    "\n",
    "first = parent(1)\n",
    "second = parent(2)\n",
    "\n",
    "print(first)\n",
    "print(second)\n",
    "print()\n",
    "\n",
    "# Because first, and second vars contain a reference to their respective \n",
    "# inner funcs, they can now be used just like regular functions to execute\n",
    "# the code.\n",
    "\n",
    "print(first())\n",
    "print(second())"
   ]
  },
  {
   "cell_type": "markdown",
   "metadata": {},
   "source": [
    "**The above process of invoking functions outside of their scope is called closure.**\n",
    "\n",
    "**Decorators are functions that take a function as an argument, perform some action, and then return an unexecuted function (no parens)**"
   ]
  },
  {
   "cell_type": "code",
   "execution_count": 64,
   "metadata": {},
   "outputs": [
    {
     "name": "stdout",
     "output_type": "stream",
     "text": [
      "<function decorator.<locals>.wrapper_function at 0x0000023E1D817288>\n",
      "display function ran\n"
     ]
    }
   ],
   "source": [
    "# Decorator Example 1:\n",
    "\n",
    "def decorator(original_function):\n",
    "    \n",
    "    # Inner function\n",
    "    def wrapper_function():\n",
    "        original_function()\n",
    "\n",
    "    # Note the inner function is returned with no parens (not executed)\n",
    "    return wrapper_function \n",
    "\n",
    "\n",
    "def display():\n",
    "    print('display function ran')\n",
    "\n",
    "#  Here display() is passed into dec_display().\n",
    "#  Because the inner function inside of decorator (wrapper_function()) is\n",
    "#  returned as a reference ready to be executed (no parens),\n",
    "#  dec_display is then equal to this unexecuted wrapper_function\n",
    "dec_display = decorator(display)\n",
    "\n",
    "# This shows that the dec_display variable is a decorator or wrapper function\n",
    "print(dec_display)\n",
    "\n",
    "# This executes the inner function\n",
    "dec_display()"
   ]
  },
  {
   "cell_type": "markdown",
   "metadata": {},
   "source": [
    "**Decorators are used with the @ symbol**"
   ]
  },
  {
   "cell_type": "code",
   "execution_count": 66,
   "metadata": {},
   "outputs": [
    {
     "name": "stdout",
     "output_type": "stream",
     "text": [
      "wrapper executed this before display\n",
      "display function ran\n"
     ]
    }
   ],
   "source": [
    "# Decorator Example 2:\n",
    "\n",
    "def decorator_func(original_function):\n",
    "    def wrapper_function():\n",
    "        print('wrapper executed this before {}'.format(original_function.__name__))\n",
    "        original_function()\n",
    "    return wrapper_function \n",
    "\n",
    "# Note that @decorator_function takes the place of \n",
    "# dec_display = decorator(display) in ex1\n",
    "@decorator_func \n",
    "def display():\n",
    "    print('display function ran')\n",
    "\n",
    "# Because of the decorator, when display is called, all code inside of the \n",
    "# function returned by the decorator will run, here the wrapper_function\n",
    "display()"
   ]
  },
  {
   "cell_type": "markdown",
   "metadata": {},
   "source": [
    "**Decorators can also use \\*args and \\*\\*kwargs**"
   ]
  },
  {
   "cell_type": "code",
   "execution_count": 70,
   "metadata": {},
   "outputs": [
    {
     "name": "stdout",
     "output_type": "stream",
     "text": [
      "wrapper executed this before display()\n",
      "display() function ran\n",
      "\n",
      "wrapper executed this before display_info()\n",
      "display_info() ran with args: (Paul, 39)\n"
     ]
    }
   ],
   "source": [
    "# Decorator Example 3:\n",
    "\n",
    "def decorator_func(original_function):\n",
    "    def wrapper_function(*args, **kwargs):\n",
    "        print(f'wrapper executed this before {original_function.__name__}()')\n",
    "        original_function(*args, **kwargs)\n",
    "    return wrapper_function \n",
    "\n",
    "@decorator_func\n",
    "def display():\n",
    "    print('display() function ran')\n",
    "\n",
    "@decorator_func \n",
    "def display_info(name, age):\n",
    "    print(f'display_info() ran with args: ({name}, {age})')\n",
    "\n",
    "# This decorator works with no args... \n",
    "display()\n",
    "print()\n",
    "\n",
    "# ...and also with any number of args\n",
    "display_info(\"Paul\", \"39\")"
   ]
  },
  {
   "cell_type": "markdown",
   "metadata": {},
   "source": [
    "## Real-World Decorator Examples"
   ]
  },
  {
   "cell_type": "code",
   "execution_count": 1,
   "metadata": {},
   "outputs": [
    {
     "name": "stdout",
     "output_type": "stream",
     "text": [
      "add_log() ran with args (Sarah, 28)\n"
     ]
    }
   ],
   "source": [
    "# Real-World Decorator Example 1:\n",
    "\n",
    "# Logging timestamps, errors, and the like to files is a good example \n",
    "# of when a decorator can be used, as a function created to run a log\n",
    "# will most likely not be executed until it is needed\n",
    "\n",
    "# For more info on the logging module, see logging_and_exception noteboook\n",
    "import logging\n",
    "\n",
    "# Here, my_logger() is a decorator function that takes any function and \n",
    "# logs it's info in a file whenever the function is executed\n",
    "def my_logger(orig_func):\n",
    "    # Open or create log file\n",
    "    LOG_FORMAT = f'%(levelname)s %(asctime)s - %(message)s'\n",
    "    logging.basicConfig(level = logging.INFO,\n",
    "                        format = LOG_FORMAT,\n",
    "                        filename = f'data/{orig_func.__name__}.log',\n",
    "                        filemode= 'w')\n",
    "    \n",
    "    logger = logging.getLogger()\n",
    "    \n",
    "    def wrapper(*args, **kwargs):\n",
    "        # This is the log info posted to the file\n",
    "        logger.info(f'Ran with args: {args}, and kwargs: {kwargs}')\n",
    "        return orig_func(*args, **kwargs)\n",
    "    \n",
    "    return wrapper  # Note: no parens\n",
    "\n",
    "@my_logger\n",
    "def add_log(name, age):\n",
    "    print(f'add_log() ran with args ({name}, {age})')\n",
    "\n",
    "# When this function is executed, the info will be logged to\n",
    "# display_info.txt\n",
    "add_log(\"Sarah\", \"28\")"
   ]
  },
  {
   "cell_type": "code",
   "execution_count": 6,
   "metadata": {},
   "outputs": [
    {
     "name": "stdout",
     "output_type": "stream",
     "text": [
      "display_info ran with args (Dude, 51)\n",
      "display_info() ran in: 1.0010097026824951 sec\n"
     ]
    }
   ],
   "source": [
    "# Real-World Decorator Example 2:\n",
    "\n",
    "# Another practical usage of decorators is for timing how long functions run\n",
    "# note here that the time module is also imported into the decorator\n",
    "\n",
    "def my_timer(orig_func):\n",
    "    import time\n",
    "    def wrapper(*args, **kwargs):\n",
    "        t1 = time.time()\n",
    "        result = orig_func(*args, **kwargs)\n",
    "        t2 = time.time() - t1\n",
    "        print(f'{orig_func.__name__}() ran in: {t2} sec')\n",
    "        return result\n",
    "\n",
    "    return wrapper # no parens\n",
    "\n",
    "import time\n",
    "@my_timer\n",
    "def display_info(name, age):\n",
    "    time.sleep(1)\n",
    "    print(f'display_info ran with args ({name}, {age})')\n",
    "\n",
    "display_info(\"Dude\", \"51\")"
   ]
  },
  {
   "cell_type": "code",
   "execution_count": 1,
   "metadata": {},
   "outputs": [
    {
     "name": "stdout",
     "output_type": "stream",
     "text": [
      "display_info ran with args (Missy, 75)\n",
      "display_info ran in: 1.0006794929504395 sec\n"
     ]
    }
   ],
   "source": [
    "# Real-World Decorator Example 3:\n",
    "\n",
    "# This example applies both my_timer and my_logger decorators from above \n",
    "# to one function \n",
    "\n",
    "# Using the unctools module wraps decorator, chaining of decorators is \n",
    "# possible\n",
    "\n",
    "# Note that @wraps is used around both my_logger() and my_timer() \n",
    "# inner wrapper functions\n",
    "\n",
    "from functools import wraps\n",
    "\n",
    "def my_logger(orig_func):\n",
    "    import logging\n",
    "    LOG_FORMAT = f'%(levelname)s %(asctime)s - %(message)s'\n",
    "    logging.basicConfig(level = logging.INFO,\n",
    "                        format = LOG_FORMAT,\n",
    "                        filename = f'data/{orig_func.__name__}.log',\n",
    "                        filemode= 'w')\n",
    "\n",
    "    @wraps(orig_func)\n",
    "    def wrapper(*args, **kwargs):\n",
    "        logging.info(f'Ran with args: {args}, and kwargs: {kwargs}')\n",
    "        return orig_func(*args, **kwargs)\n",
    "    return wrapper\n",
    "\n",
    "\n",
    "def my_timer(orig_func):\n",
    "    import time\n",
    "    \n",
    "    @wraps(orig_func)\n",
    "    def wrapper(*args, **kwargs):\n",
    "        t1 = time.time()\n",
    "        result = orig_func(*args, **kwargs)\n",
    "        t2 = time.time() - t1\n",
    "        print(f'{orig_func.__name__} ran in: {t2} sec')\n",
    "        return result\n",
    "\n",
    "    return wrapper\n",
    "\n",
    "import time\n",
    "\n",
    "# Decorators can be stacked with the @wraps being used\n",
    "# note order matters, logger needs to be run before timer\n",
    "@my_logger\n",
    "@my_timer\n",
    "def display_info(name, age):\n",
    "    time.sleep(1) \n",
    "    print(f'display_info ran with args ({name}, {age})')\n",
    "\n",
    "display_info('Missy', '75')"
   ]
  },
  {
   "cell_type": "code",
   "execution_count": 2,
   "metadata": {},
   "outputs": [
    {
     "name": "stdout",
     "output_type": "stream",
     "text": [
      "LOG: Executed Before  display_info\n",
      "display_info ran with args (Paul, 39)\n",
      "LOG: Executed After  display_info \n",
      "\n",
      "LOG: Executed Before  display_info\n",
      "display_info ran with args (Brian, 40)\n",
      "LOG: Executed After  display_info \n",
      "\n"
     ]
    }
   ],
   "source": [
    "# Real-World Decorator Example 4:\n",
    "\n",
    "# Creating a decorator that takes arguments \n",
    "# Example: flask @app.route(\"/\"))\n",
    "\n",
    "def prefix_decorator(prefix):\n",
    "    def decorator_function(original_function):\n",
    "        def wrapper_function(*args, **kwargs):\n",
    "            print(prefix, 'Executed Before ', original_function.__name__)\n",
    "            result = original_function(*args, **kwargs)\n",
    "            print(prefix, 'Executed After ', original_function.__name__, '\\n')\n",
    "            return result   \n",
    "        return wrapper_function \n",
    "    return decorator_function\n",
    "  \n",
    "@prefix_decorator('LOG:')\n",
    "def display_info(name, age):\n",
    "    print(f'display_info ran with args ({name}, {age})')\n",
    "\n",
    "display_info('Paul', 39)\n",
    "display_info('Brian', 40)"
   ]
  },
  {
   "cell_type": "code",
   "execution_count": null,
   "metadata": {},
   "outputs": [],
   "source": []
  }
 ],
 "metadata": {
  "kernelspec": {
   "display_name": "Python 3",
   "language": "python",
   "name": "python3"
  },
  "language_info": {
   "codemirror_mode": {
    "name": "ipython",
    "version": 3
   },
   "file_extension": ".py",
   "mimetype": "text/x-python",
   "name": "python",
   "nbconvert_exporter": "python",
   "pygments_lexer": "ipython3",
   "version": "3.7.6"
  }
 },
 "nbformat": 4,
 "nbformat_minor": 2
}
