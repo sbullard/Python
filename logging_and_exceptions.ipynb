{
 "cells": [
  {
   "cell_type": "markdown",
   "metadata": {},
   "source": [
    "## Logging & Exceptions\n",
    "---\n",
    "**Logging and exceptions are two sides of the same coin. Logging is used to output status or error reports and execeptions are messages detailing errors that cause a program to crash.**"
   ]
  },
  {
   "cell_type": "markdown",
   "metadata": {},
   "source": [
    "### Logging\n",
    "---\n",
    "Python has a built-in logging module created specifically for writing code status reports to a file or some other output stream. \n",
    "\n",
    "There are 5 possible levels (or log type) that a log can contain, each level has a corresponding numerical id code:\n",
    "\n",
    "0. NOTSET (0)\n",
    "1. DEBUG (10)\n",
    "2. INFO (20)\n",
    "3. WARNING (30)\n",
    "4. ERROR (40)\n",
    "5. CRITICAL (50)\n",
    "\n",
    "**IMPORTANT : The logging module can only run one log per session**"
   ]
  },
  {
   "cell_type": "code",
   "execution_count": 1,
   "metadata": {
    "scrolled": true
   },
   "outputs": [
    {
     "name": "stdout",
     "output_type": "stream",
     "text": [
      "['BASIC_FORMAT', 'BufferingFormatter', 'CRITICAL', 'DEBUG', 'ERROR', 'FATAL', 'FileHandler', 'Filter', 'Filterer', 'Formatter', 'Handler', 'INFO', 'LogRecord', 'Logger', 'LoggerAdapter', 'Manager', 'NOTSET', 'NullHandler', 'PercentStyle', 'PlaceHolder', 'RootLogger', 'StrFormatStyle', 'StreamHandler', 'StringTemplateStyle', 'Template', 'WARN', 'WARNING', '_STYLES', '_StderrHandler', '__all__', '__author__', '__builtins__', '__cached__', '__date__', '__doc__', '__file__', '__loader__', '__name__', '__package__', '__path__', '__spec__', '__status__', '__version__', '_acquireLock', '_addHandlerRef', '_checkLevel', '_defaultFormatter', '_defaultLastResort', '_handlerList', '_handlers', '_levelToName', '_lock', '_logRecordFactory', '_loggerClass', '_nameToLevel', '_register_at_fork_reinit_lock', '_releaseLock', '_removeHandlerRef', '_showwarning', '_srcfile', '_startTime', '_warnings_showwarning', 'addLevelName', 'atexit', 'basicConfig', 'captureWarnings', 'collections', 'critical', 'currentframe', 'debug', 'disable', 'error', 'exception', 'fatal', 'getLevelName', 'getLogRecordFactory', 'getLogger', 'getLoggerClass', 'handlers', 'info', 'io', 'lastResort', 'log', 'logMultiprocessing', 'logProcesses', 'logThreads', 'makeLogRecord', 'os', 'raiseExceptions', 'root', 'setLogRecordFactory', 'setLoggerClass', 'shutdown', 'sys', 'threading', 'time', 'traceback', 'warn', 'warning', 'warnings', 'weakref']\n"
     ]
    }
   ],
   "source": [
    "# Breakdown of the logging module\n",
    "import logging\n",
    "print(dir(logging))\n",
    "\n",
    "# Items with all caps (CRITICAL, DEBUG, ERROR, FATAL, etc.) are constants\n",
    "# Items with first letter caps (BufferingFormatter, Filter, ect.) are classes\n",
    "# Items that start lowercase (warn, warning, warnings, etc.) are methods"
   ]
  },
  {
   "cell_type": "code",
   "execution_count": 4,
   "metadata": {},
   "outputs": [
    {
     "name": "stdout",
     "output_type": "stream",
     "text": [
      "Root logger level: \n",
      "30\n"
     ]
    }
   ],
   "source": [
    "# This example uses the basicConfig method \n",
    "\n",
    "# Create and config log file (basicConfig will create the file if not extant)\n",
    "logging.basicConfig(filename = 'data/logtest.log', setLevel = logging.DEBUG)\n",
    "\n",
    "# Create root logger\n",
    "logger = logging.getLogger() # logger objects with no name are root loggers\n",
    "\n",
    "# Test the logger (this message won't show up due to initial logger config)\n",
    "logger.info('This Logger is Working Correctly!')\n",
    "\n",
    "# Note the root logger default setting level is 30 or WARNING, \n",
    "# The log file above is set to  Debug, which is level 10. \n",
    "# To fix this, set initial config to debug\n",
    "print('Root logger level: ')\n",
    "print(logger.level)"
   ]
  },
  {
   "cell_type": "code",
   "execution_count": 7,
   "metadata": {},
   "outputs": [
    {
     "name": "stdout",
     "output_type": "stream",
     "text": [
      "logger level changed from root level to debug level\n",
      "10\n"
     ]
    }
   ],
   "source": [
    "logging.basicConfig(filename = 'data/logtest.log')\n",
    "\n",
    "logger = logging.getLogger()\n",
    "\n",
    "logger.info('This Logger is Working Correctly!')\n",
    "\n",
    "logger.setLevel(logging.DEBUG)\n",
    "print('logger level changed from root level to debug level')\n",
    "print(logger.level)\n",
    "\n",
    "# Now the level is DEBUG and INFO logger message will be in the file, BUT...."
   ]
  },
  {
   "cell_type": "code",
   "execution_count": 3,
   "metadata": {},
   "outputs": [
    {
     "name": "stdout",
     "output_type": "stream",
     "text": [
      "10\n"
     ]
    }
   ],
   "source": [
    "# The log above just says INFO and the message, with no time given. \n",
    "# String formatting can be used to create desired message output\n",
    "# Here, the level, date/time, and message are all returned\n",
    "# Also, note that the default mode for loggers is append mode, to overwrite\n",
    "# the log file every time a new log is produced used filemode argument\n",
    "\n",
    "LOG_FORMAT = f'%(levelname)s %(asctime)s - %(message)s'\n",
    "logging.basicConfig(level = logging.DEBUG,\n",
    "                    format = LOG_FORMAT, \n",
    "                    filename = 'data/logtest.log',\n",
    "                    filemode= 'w')\n",
    "\n",
    "logger = logging.getLogger()\n",
    "# logger.setLevel(logging.DEBUG) #alternative way to set logger configs\n",
    "\n",
    "# If level = DEBUG is set, all these message will appear,\n",
    "# If another level set, for example level = ERROR, only error and critical \n",
    "# messages will appear\n",
    "logger.debug(' This is a DEBUG message')\n",
    "logger.info(' This is an INFO message')\n",
    "logger.warning(' This is a WARNING message')\n",
    "logger.error(' This is an ERROR message')\n",
    "logger.critical(' This is a CRITICAL message')\n",
    "\n",
    "print(logger.level)"
   ]
  },
  {
   "cell_type": "code",
   "execution_count": 2,
   "metadata": {},
   "outputs": [],
   "source": [
    "# Logging Example with actual function \n",
    "\n",
    "import math\n",
    "\n",
    "LOG_FORMAT = '%(levelname)s %(asctime)s - %(message)s'\n",
    "logging.basicConfig(level = logging.DEBUG,\n",
    "                    format = LOG_FORMAT, \n",
    "                    filename = 'data/logtest.log',\n",
    "                    filemode='w')\n",
    "\n",
    "logger = logging.getLogger()\n",
    "\n",
    "def quadratic_formula(a , b, c):\n",
    "    # Return the solutions to the equation ax^2 + bx + c = 0\n",
    "    logger.info('quadratic_formula({0}, {1}, {2})'.format(a, b, c))\n",
    "    \n",
    "    # Compute the discriminant(number under the square root sign)\n",
    "    # or discrimiant = b^2 - 4ac\n",
    "    logger.debug('# Compute the discriminant')\n",
    "    disc = b**2 - 4*a*c\n",
    "    \n",
    "    # Compute the two roots\n",
    "    logger.debug('# Compute the two roots')\n",
    "    root1 = (-b + math.sqrt(disc)) / (2*a)\n",
    "    root2 = (-b - math.sqrt(disc)) / (2*a)\n",
    "    \n",
    "    # Return the roots\n",
    "    logger.debug('# Return the roots')\n",
    "    return(root1, root2)\n",
    "\n",
    "roots = quadratic_formula(1, 0, -4)\n",
    "\n",
    "# The above function will work and the log file should have all\n",
    "# messages created above in it. If the function doesn't work, none or only\n",
    "# some of the above messages would come through"
   ]
  },
  {
   "cell_type": "markdown",
   "metadata": {},
   "source": [
    "### Exceptions\n",
    "---\n",
    "Errors detected during program execution are called exceptions. There are number of built-in exception types that are automatically triggered when an error occurs. \n",
    "\n",
    "Here is a list of some common built-in exceptions:\n",
    "* Syntax Error\n",
    "* Zero Division Error\n",
    "* File Not Found\n",
    "* Type Error\n",
    "* Value Error\n",
    "* Name Error\n",
    "\n",
    "Go here for  a complete list of all the built-in exceptions in python:\n",
    "https://docs.python.org/3/library/exceptions.html#bltin-exceptions\n",
    "\n"
   ]
  },
  {
   "cell_type": "markdown",
   "metadata": {},
   "source": [
    "### Syntax Error"
   ]
  },
  {
   "cell_type": "code",
   "execution_count": 1,
   "metadata": {},
   "outputs": [
    {
     "ename": "SyntaxError",
     "evalue": "invalid syntax (<ipython-input-1-7e98c250fdc6>, line 2)",
     "output_type": "error",
     "traceback": [
      "\u001b[1;36m  File \u001b[1;32m\"<ipython-input-1-7e98c250fdc6>\"\u001b[1;36m, line \u001b[1;32m2\u001b[0m\n\u001b[1;33m    for i in range(5)\u001b[0m\n\u001b[1;37m                     ^\u001b[0m\n\u001b[1;31mSyntaxError\u001b[0m\u001b[1;31m:\u001b[0m invalid syntax\n"
     ]
    }
   ],
   "source": [
    "for i in range(5)\n",
    "    print('hello')"
   ]
  },
  {
   "cell_type": "markdown",
   "metadata": {},
   "source": [
    "### Zero Division Error"
   ]
  },
  {
   "cell_type": "code",
   "execution_count": 2,
   "metadata": {},
   "outputs": [
    {
     "ename": "ZeroDivisionError",
     "evalue": "division by zero",
     "output_type": "error",
     "traceback": [
      "\u001b[1;31m---------------------------------------------------------------------------\u001b[0m",
      "\u001b[1;31mZeroDivisionError\u001b[0m                         Traceback (most recent call last)",
      "\u001b[1;32m<ipython-input-2-162888b85498>\u001b[0m in \u001b[0;36m<module>\u001b[1;34m\u001b[0m\n\u001b[0;32m      1\u001b[0m \u001b[1;31m#2. div by zero error\u001b[0m\u001b[1;33m\u001b[0m\u001b[1;33m\u001b[0m\u001b[1;33m\u001b[0m\u001b[0m\n\u001b[1;32m----> 2\u001b[1;33m \u001b[1;36m1\u001b[0m\u001b[1;33m/\u001b[0m\u001b[1;36m0\u001b[0m\u001b[1;33m\u001b[0m\u001b[1;33m\u001b[0m\u001b[0m\n\u001b[0m",
      "\u001b[1;31mZeroDivisionError\u001b[0m: division by zero"
     ]
    }
   ],
   "source": [
    "1/0"
   ]
  },
  {
   "cell_type": "markdown",
   "metadata": {},
   "source": [
    "### File Not Found Error"
   ]
  },
  {
   "cell_type": "code",
   "execution_count": 4,
   "metadata": {},
   "outputs": [
    {
     "ename": "FileNotFoundError",
     "evalue": "[Errno 2] No such file or directory: 'x_files.txt'",
     "output_type": "error",
     "traceback": [
      "\u001b[1;31m---------------------------------------------------------------------------\u001b[0m",
      "\u001b[1;31mFileNotFoundError\u001b[0m                         Traceback (most recent call last)",
      "\u001b[1;32m<ipython-input-4-593c3b378a75>\u001b[0m in \u001b[0;36m<module>\u001b[1;34m\u001b[0m\n\u001b[1;32m----> 1\u001b[1;33m \u001b[1;32mwith\u001b[0m \u001b[0mopen\u001b[0m\u001b[1;33m(\u001b[0m\u001b[1;34m'x_files.txt'\u001b[0m\u001b[1;33m)\u001b[0m \u001b[1;32mas\u001b[0m \u001b[0mxf\u001b[0m\u001b[1;33m:\u001b[0m\u001b[1;33m\u001b[0m\u001b[1;33m\u001b[0m\u001b[0m\n\u001b[0m\u001b[0;32m      2\u001b[0m      \u001b[0mthe_truth\u001b[0m \u001b[1;33m=\u001b[0m \u001b[0mxf\u001b[0m\u001b[1;33m.\u001b[0m\u001b[0mread\u001b[0m\u001b[1;33m(\u001b[0m\u001b[1;33m)\u001b[0m\u001b[1;33m\u001b[0m\u001b[1;33m\u001b[0m\u001b[0m\n",
      "\u001b[1;31mFileNotFoundError\u001b[0m: [Errno 2] No such file or directory: 'x_files.txt'"
     ]
    }
   ],
   "source": [
    "with open('x_files.txt') as xf:\n",
    "     the_truth = xf.read()"
   ]
  },
  {
   "cell_type": "markdown",
   "metadata": {},
   "source": [
    "### Type Error\n",
    "---\n",
    "Type Errors are thrown when an operation or function is applied to an object of inappropriate type"
   ]
  },
  {
   "cell_type": "code",
   "execution_count": 5,
   "metadata": {},
   "outputs": [
    {
     "ename": "TypeError",
     "evalue": "unsupported operand type(s) for +: 'int' and 'str'",
     "output_type": "error",
     "traceback": [
      "\u001b[1;31m---------------------------------------------------------------------------\u001b[0m",
      "\u001b[1;31mTypeError\u001b[0m                                 Traceback (most recent call last)",
      "\u001b[1;32m<ipython-input-5-83263877f75e>\u001b[0m in \u001b[0;36m<module>\u001b[1;34m\u001b[0m\n\u001b[1;32m----> 1\u001b[1;33m \u001b[1;36m1\u001b[0m \u001b[1;33m+\u001b[0m \u001b[1;36m2\u001b[0m \u001b[1;33m+\u001b[0m \u001b[1;34m'three'\u001b[0m\u001b[1;33m\u001b[0m\u001b[1;33m\u001b[0m\u001b[0m\n\u001b[0m",
      "\u001b[1;31mTypeError\u001b[0m: unsupported operand type(s) for +: 'int' and 'str'"
     ]
    }
   ],
   "source": [
    "1 + 2 + 'three'"
   ]
  },
  {
   "cell_type": "markdown",
   "metadata": {},
   "source": [
    "### Value Error\n",
    "---\n",
    "Value Errors are thrown when a functions argument is of an innapropriate type."
   ]
  },
  {
   "cell_type": "code",
   "execution_count": 11,
   "metadata": {},
   "outputs": [
    {
     "ename": "ValueError",
     "evalue": "not enough values to unpack (expected 4, got 3)",
     "output_type": "error",
     "traceback": [
      "\u001b[1;31m---------------------------------------------------------------------------\u001b[0m",
      "\u001b[1;31mValueError\u001b[0m                                Traceback (most recent call last)",
      "\u001b[1;32m<ipython-input-11-b193adea384c>\u001b[0m in \u001b[0;36m<module>\u001b[1;34m\u001b[0m\n\u001b[0;32m     11\u001b[0m \u001b[1;33m\u001b[0m\u001b[0m\n\u001b[0;32m     12\u001b[0m \u001b[1;31m#ex3\u001b[0m\u001b[1;33m\u001b[0m\u001b[1;33m\u001b[0m\u001b[1;33m\u001b[0m\u001b[0m\n\u001b[1;32m---> 13\u001b[1;33m \u001b[0ma\u001b[0m\u001b[1;33m,\u001b[0m \u001b[0mb\u001b[0m\u001b[1;33m,\u001b[0m \u001b[0mc\u001b[0m\u001b[1;33m,\u001b[0m \u001b[0md\u001b[0m \u001b[1;33m=\u001b[0m \u001b[1;33m[\u001b[0m\u001b[1;36m1\u001b[0m\u001b[1;33m,\u001b[0m \u001b[1;36m2\u001b[0m\u001b[1;33m,\u001b[0m \u001b[1;36m3\u001b[0m\u001b[1;33m]\u001b[0m\u001b[1;33m\u001b[0m\u001b[1;33m\u001b[0m\u001b[0m\n\u001b[0m",
      "\u001b[1;31mValueError\u001b[0m: not enough values to unpack (expected 4, got 3)"
     ]
    }
   ],
   "source": [
    "# ex1\n",
    "#print(int('dog'))\n",
    "\n",
    "# ex2\n",
    "#print(math.sqrt(-1))\n",
    "\n",
    "# ex3\n",
    "a, b, c, d = [1, 2, 3]"
   ]
  },
  {
   "cell_type": "markdown",
   "metadata": {},
   "source": [
    "### Name Error\n",
    "---\n",
    "Name Error is thrown when an object can not be found."
   ]
  },
  {
   "cell_type": "code",
   "execution_count": 12,
   "metadata": {},
   "outputs": [
    {
     "ename": "NameError",
     "evalue": "name 'age' is not defined",
     "output_type": "error",
     "traceback": [
      "\u001b[1;31m---------------------------------------------------------------------------\u001b[0m",
      "\u001b[1;31mNameError\u001b[0m                                 Traceback (most recent call last)",
      "\u001b[1;32m<ipython-input-12-d075b0315d53>\u001b[0m in \u001b[0;36m<module>\u001b[1;34m\u001b[0m\n\u001b[1;32m----> 1\u001b[1;33m \u001b[0mage\u001b[0m\u001b[1;33m\u001b[0m\u001b[1;33m\u001b[0m\u001b[0m\n\u001b[0m",
      "\u001b[1;31mNameError\u001b[0m: name 'age' is not defined"
     ]
    }
   ],
   "source": [
    "age"
   ]
  },
  {
   "cell_type": "markdown",
   "metadata": {},
   "source": [
    "### Exception Handling\n",
    "---\n",
    "Exception handling is used when a user wants to specifically tell a program what an error is and how to handle it. \n",
    "\n",
    "It is best practice to use one of the built-ins whenever possible, however, custom built errors can be used.\n",
    "\n",
    "The general format for handling an exception in Python is the try, except, else, finally clause. Each section is detailed below:\n",
    "\n",
    "* **try:** this code runs first\n",
    "* **except:** if an exception/error occurs in try, then this runs\n",
    "* **else:** executes if try succeeds\n",
    "* **finally:** this code always executes"
   ]
  },
  {
   "cell_type": "code",
   "execution_count": 1,
   "metadata": {},
   "outputs": [
    {
     "ename": "FileNotFoundError",
     "evalue": "[Errno 2] No such file or directory: 'data/not_here.png'",
     "output_type": "error",
     "traceback": [
      "\u001b[1;31m---------------------------------------------------------------------------\u001b[0m",
      "\u001b[1;31mFileNotFoundError\u001b[0m                         Traceback (most recent call last)",
      "\u001b[1;32m<ipython-input-1-4987d6b2fbce>\u001b[0m in \u001b[0;36m<module>\u001b[1;34m\u001b[0m\n\u001b[0;32m     30\u001b[0m \u001b[1;33m\u001b[0m\u001b[0m\n\u001b[0;32m     31\u001b[0m \u001b[1;31m# this contrived example tries to read a file that doesn't exist to get error\u001b[0m\u001b[1;33m\u001b[0m\u001b[1;33m\u001b[0m\u001b[1;33m\u001b[0m\u001b[0m\n\u001b[1;32m---> 32\u001b[1;33m \u001b[0mdata\u001b[0m \u001b[1;33m=\u001b[0m \u001b[0mread_file_timed\u001b[0m\u001b[1;33m(\u001b[0m\u001b[1;34m'data/not_here.png'\u001b[0m\u001b[1;33m)\u001b[0m\u001b[1;33m\u001b[0m\u001b[1;33m\u001b[0m\u001b[0m\n\u001b[0m\u001b[0;32m     33\u001b[0m \u001b[1;33m\u001b[0m\u001b[0m\n\u001b[0;32m     34\u001b[0m \u001b[1;31m# note that juptyer throws an error, but also see the logfile problems.log\u001b[0m\u001b[1;33m\u001b[0m\u001b[1;33m\u001b[0m\u001b[1;33m\u001b[0m\u001b[0m\n",
      "\u001b[1;32m<ipython-input-1-4987d6b2fbce>\u001b[0m in \u001b[0;36mread_file_timed\u001b[1;34m(path)\u001b[0m\n\u001b[0;32m     13\u001b[0m     \u001b[1;32mtry\u001b[0m\u001b[1;33m:\u001b[0m\u001b[1;33m\u001b[0m\u001b[1;33m\u001b[0m\u001b[0m\n\u001b[0;32m     14\u001b[0m         \u001b[1;31m# Try to open the given file\u001b[0m\u001b[1;33m\u001b[0m\u001b[1;33m\u001b[0m\u001b[1;33m\u001b[0m\u001b[0m\n\u001b[1;32m---> 15\u001b[1;33m         \u001b[0mf\u001b[0m \u001b[1;33m=\u001b[0m \u001b[0mopen\u001b[0m\u001b[1;33m(\u001b[0m\u001b[0mpath\u001b[0m\u001b[1;33m,\u001b[0m \u001b[0mmode\u001b[0m\u001b[1;33m=\u001b[0m\u001b[1;34m\"rb\"\u001b[0m\u001b[1;33m)\u001b[0m \u001b[1;31m# rb = read binary\u001b[0m\u001b[1;33m\u001b[0m\u001b[1;33m\u001b[0m\u001b[0m\n\u001b[0m\u001b[0;32m     16\u001b[0m         \u001b[0mdata\u001b[0m \u001b[1;33m=\u001b[0m \u001b[0mf\u001b[0m\u001b[1;33m.\u001b[0m\u001b[0mread\u001b[0m\u001b[1;33m(\u001b[0m\u001b[1;33m)\u001b[0m\u001b[1;33m\u001b[0m\u001b[1;33m\u001b[0m\u001b[0m\n\u001b[0;32m     17\u001b[0m         \u001b[1;32mreturn\u001b[0m\u001b[1;33m(\u001b[0m\u001b[0mdata\u001b[0m\u001b[1;33m)\u001b[0m\u001b[1;33m\u001b[0m\u001b[1;33m\u001b[0m\u001b[0m\n",
      "\u001b[1;31mFileNotFoundError\u001b[0m: [Errno 2] No such file or directory: 'data/not_here.png'"
     ]
    }
   ],
   "source": [
    "# This example contains a function that reads a binary file and returns data\n",
    "# The resutlts will be logged and timed\n",
    "import logging\n",
    "import time\n",
    "\n",
    "# Create Logger\n",
    "logging.basicConfig(filename='data/log_problems.log',\n",
    "                    level= logging.DEBUG)\n",
    "logger = logging.getLogger()\n",
    "\n",
    "def read_file_timed(path):\n",
    "    start_time = time.time()\n",
    "    try:\n",
    "        # Try to open the given file\n",
    "        f = open(path, mode=\"rb\") # rb = read binary \n",
    "        data = f.read()\n",
    "        return(data)\n",
    "    except FileNotFoundError as err:\n",
    "        # If the file is not found, FileNotFoundError occurs\n",
    "        logger.error(err)\n",
    "        raise #this raises the error and passes it on to the user\n",
    "    else:\n",
    "        # This code exectued is there are no exceptions\n",
    "        f.close()\n",
    "    finally:\n",
    "        # This code always executes, no matter what happens above\n",
    "        end_time = time.time()\n",
    "        dt = end_time - start_time\n",
    "        logger.info(f'Time required for {path} = {dt}')\n",
    "\n",
    "# This contrived example tries to read a file that doesn't exist to get error\n",
    "data = read_file_timed('data/not_here.png')\n",
    "\n",
    "# Note that juptyer throws an error, but also see the logfile problems.log\n",
    "# created above"
   ]
  }
 ],
 "metadata": {
  "kernelspec": {
   "display_name": "Python 3",
   "language": "python",
   "name": "python3"
  },
  "language_info": {
   "codemirror_mode": {
    "name": "ipython",
    "version": 3
   },
   "file_extension": ".py",
   "mimetype": "text/x-python",
   "name": "python",
   "nbconvert_exporter": "python",
   "pygments_lexer": "ipython3",
   "version": "3.7.6"
  }
 },
 "nbformat": 4,
 "nbformat_minor": 2
}
