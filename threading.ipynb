{
 "cells": [
  {
   "cell_type": "markdown",
   "metadata": {},
   "source": [
    "# Threading\n",
    "---\n",
    "In other programmign languages such as C and Java threading allows multiple tasks to run concurrently. Threads can run simultaneously or in parallel (multiple cpu's being used at once)\n",
    "\n",
    "Python has a global interpreter lock which prevents threads from being run simultaneously (in parrallel). To bypass this, Python switches rapidly between each task, giving the illusion of multi-threading."
   ]
  },
  {
   "cell_type": "markdown",
   "metadata": {},
   "source": [
    "## Index\n",
    "1. Initializing & Running Threads\n",
    "2. Running Multiple Threads \n",
    "3. Subclassing and the Thread class run() method\n",
    "4. Subclassing and the Thread class __init__ method\n",
    "5. Locks\n",
    "6. Queues\n",
    "7. Event Threading\n",
    "8. Image Downloading Example"
   ]
  },
  {
   "cell_type": "markdown",
   "metadata": {},
   "source": [
    "### A Note on Multiprocessing\n",
    "---\n",
    "The Multiprocessesing module is very similar to the threading module, however \\_\\_name__ == '\\_\\_main__' is required, therefore this module won't work \n",
    "within jupyter notebook.\n",
    "\n",
    "To see some examples of multiprocessing, go to multiprocessing_ex.py in same folder as this notebook"
   ]
  },
  {
   "cell_type": "code",
   "execution_count": 1,
   "metadata": {},
   "outputs": [],
   "source": [
    "# Modules used in this notebook\n",
    "import time\n",
    "import os\n",
    "import requests\n",
    "import queue\n",
    "import threading\n",
    "import numpy as np"
   ]
  },
  {
   "cell_type": "markdown",
   "metadata": {},
   "source": [
    "## 1. Initializing & Running Threads\n"
   ]
  },
  {
   "cell_type": "code",
   "execution_count": 7,
   "metadata": {},
   "outputs": [
    {
     "name": "stdout",
     "output_type": "stream",
     "text": [
      "t1 Sleeping For 5 Seconds\n",
      "\n",
      "hello\n",
      "hello\n",
      "t1 Finished Sleeping\n",
      "\n"
     ]
    }
   ],
   "source": [
    "# To create a thread, there must be a target function for the thread to use\n",
    "def sleeper(n, name):\n",
    "    print(f'{name} Sleeping For {n} Seconds\\n')\n",
    "    time.sleep(n)\n",
    "    print(f'{name} Finished Sleeping\\n')\n",
    "\n",
    "# Iniitialize threads with threading.Thread(target = function, \n",
    "#                                           name   = threadname,\n",
    "#                                           arge   = function args)\n",
    "t1 = threading.Thread(target = sleeper,\n",
    "                      name = 't1', \n",
    "                      args = (5, 't1'))\n",
    "\n",
    "# Run threads using start()\n",
    "t1.start() \n",
    "\n",
    "# join() blocks rest of code execution until thread is finished\n",
    "# t1.join()\n",
    "\n",
    "# These functions will run while thread is operation(unless t1.join() used)\n",
    "print('hello')\n",
    "print('hello')"
   ]
  },
  {
   "cell_type": "markdown",
   "metadata": {},
   "source": [
    "## 2. Running Multiple Threads"
   ]
  },
  {
   "cell_type": "code",
   "execution_count": 6,
   "metadata": {},
   "outputs": [
    {
     "name": "stdout",
     "output_type": "stream",
     "text": [
      "t0 Sleeping For 5 Seconds\n",
      "t0 has started\n",
      "\n",
      "t1 Sleeping For 5 Seconds\n",
      "\n",
      "t1 has started\n",
      "t2 Sleeping For 5 Seconds\n",
      "t2 has started\n",
      "\n",
      "t3 Sleeping For 5 Seconds\n",
      "t3 has started\n",
      "\n",
      "t4 Sleeping For 5 Seconds\n",
      "\n",
      "t4 has started\n",
      "t0 Finished Sleeping\n",
      "\n",
      "t1 Finished Sleeping\n",
      "\n",
      "t2 Finished Sleeping\n",
      "t3 Finished Sleeping\n",
      "\n",
      "\n",
      "t4 Finished Sleeping\n",
      "\n",
      "all threads executed in: 5.019181251525879\n",
      "All threads run\n"
     ]
    }
   ],
   "source": [
    "threads_list = []\n",
    "\n",
    "start = time.time()\n",
    "\n",
    "for i in range(5):\n",
    "    t = threading.Thread(target = sleeper, \n",
    "                         name = f't{i}', \n",
    "                         args = (5, f't{i}'))\n",
    "    threads_list.append(t)\n",
    "    t.start()\n",
    "    print(f'{t.name} has started')\n",
    "    \n",
    "# All threads will finish before continuing on with program by using join()\n",
    "for t in threads_list:\n",
    "    t.join()\n",
    "    \n",
    "end = time.time()\n",
    "print(f'all threads executed in: {end-start}')\n",
    "\n",
    "# Test to see that all threads finished running\n",
    "print('All threads run')"
   ]
  },
  {
   "cell_type": "markdown",
   "metadata": {},
   "source": [
    "## Subclassing\n",
    "\n",
    "Subclassing allows for tweaking details of each thread instance. \n",
    "Below is the official documentation for thread objects:<br>\n",
    "https://docs.python.org/3/library/threading.html"
   ]
  },
  {
   "cell_type": "markdown",
   "metadata": {},
   "source": [
    "## 3. Sublcassing and the Thread class run() method"
   ]
  },
  {
   "cell_type": "code",
   "execution_count": 17,
   "metadata": {},
   "outputs": [],
   "source": [
    "# The run() method is automatically called by the start() method.\n",
    "# The run() method is responsible for executing the function passed into the\n",
    "# thread objects target parameter, below the sleeper() function:\n",
    "# threading.Thread(target = sleeper, args = (5,))\n",
    "\n",
    "# Note: Quick way to get source code of a method in jupyter notebook\n",
    "# threading.Thread.run??\n",
    "\n",
    "# This is the run() source code\n",
    "def run(self):\n",
    "    \"\"\"Method representing the thread's activity.\n",
    "\n",
    "    You may override this method in a subclass. The standard run() method\n",
    "    invokes the callable object passed to the object's constructor as the\n",
    "    target argument, if any, with sequential and keyword arguments taken\n",
    "    from the args and kwargs arguments, respectively.\"\"\"\n",
    "    try:\n",
    "        if self._target:\n",
    "            self._target(*self._args, **self._kwargs)\n",
    "    finally:\n",
    "        del self._target, self._args, self._kwargs"
   ]
  },
  {
   "cell_type": "code",
   "execution_count": 18,
   "metadata": {},
   "outputs": [
    {
     "name": "stdout",
     "output_type": "stream",
     "text": [
      "t1 download started\n",
      "t1 Sleeping For 3 Seconds\n",
      "\n",
      "t2 download started\n",
      "t2 Sleeping For 3 Seconds\n",
      "\n",
      "t3 download started\n",
      "t3 Sleeping For 3 Seconds\n",
      "\n",
      "t4 download started\n",
      "t4 Sleeping For 3 Seconds\n",
      "\n",
      "t1 Finished Sleeping\n",
      "\n",
      "t1 executed successfully\n",
      "t2 Finished Sleeping\n",
      "\n",
      "t2 executed successfully\n",
      "t3 Finished Sleeping\n",
      "\n",
      "t3 executed successfully\n",
      "t4 Finished Sleeping\n",
      "\n",
      "t4 executed successfully\n"
     ]
    }
   ],
   "source": [
    "# Because the run method was designed to allow subclassing, the above \n",
    "# run() function can be altered\n",
    "\n",
    "# Original run() method from Python source code\n",
    "'''\n",
    "def run(self):\n",
    "    try:\n",
    "        if self._target:\n",
    "            self._target(*self._args, **self._kwargs)\n",
    "    finally:\n",
    "        del self._target, self._args, self._kwargs\n",
    "'''\n",
    "\n",
    "def sleeper(n, name):\n",
    "    print(f'{name} Sleeping For {n} Seconds\\n')\n",
    "    time.sleep(n)\n",
    "    print(f'{name} Finished Sleeping\\n')\n",
    "\n",
    "# Create custom sublcass (inherting from parent threading.Thread class)\n",
    "class myThread(threading.Thread):\n",
    "    #note that __init__ not altered here, keeping same as parent class\n",
    "    #only run() method will be changed\n",
    "    def run(self):\n",
    "        print(f'{self.getName()} download started') #tweak 1\n",
    "        try:\n",
    "            if self._target:\n",
    "                self._target(*self._args, **self._kwargs)\n",
    "        finally:\n",
    "            del self._target, self._args, self._kwargs\n",
    "            print(f'{self.getName()} executed successfully') #tweak 2\n",
    "            \n",
    "for i in range(4):\n",
    "    t = myThread(target = sleeper, \n",
    "                 name = f't{i+1}', \n",
    "                 args = (3, f't{i+1}'))\n",
    "    t.start()"
   ]
  },
  {
   "cell_type": "markdown",
   "metadata": {},
   "source": [
    "## 4. Subclassing and the Thread class \\_\\_init__ method"
   ]
  },
  {
   "cell_type": "code",
   "execution_count": 22,
   "metadata": {},
   "outputs": [],
   "source": [
    "# Per Python documentation, the Thread Class' __init__ method can also be \n",
    "# tweaked. Below is the source code\n",
    "# threading.Thread.__init__??\n",
    "\n",
    "Source:   \n",
    "    def __init__(self, group=None, target=None, name=None,\n",
    "                 args=(), kwargs=None, *, daemon=None):\n",
    "        \"\"\"This constructor should always be called with keyword arguments. Arguments are:\n",
    "\n",
    "        *group* should be None; reserved for future extension when a ThreadGroup\n",
    "        class is implemented.\n",
    "\n",
    "        *target* is the callable object to be invoked by the run()\n",
    "        method. Defaults to None, meaning nothing is called.\n",
    "\n",
    "        *name* is the thread name. By default, a unique name is constructed of\n",
    "        the form \"Thread-N\" where N is a small decimal number.\n",
    "\n",
    "        *args* is the argument tuple for the target invocation. Defaults to ().\n",
    "\n",
    "        *kwargs* is a dictionary of keyword arguments for the target\n",
    "        invocation. Defaults to {}.\n",
    "\n",
    "        If a subclass overrides the constructor, it must make sure to invoke\n",
    "        the base class constructor (Thread.__init__()) before doing anything\n",
    "        else to the thread."
   ]
  },
  {
   "cell_type": "code",
   "execution_count": 19,
   "metadata": {
    "scrolled": false
   },
   "outputs": [
    {
     "name": "stdout",
     "output_type": "stream",
     "text": [
      "thread 1 download started\n",
      "0\n",
      "thread 1 executed successfully\n",
      "thread 2 download started\n",
      "8\n",
      "thread 2 executed successfully\n",
      "thread 3 download started\n",
      "16\n",
      "thread 3 executed successfully\n",
      "thread 4 download started\n",
      "24\n",
      "thread 4 executed successfully\n",
      "thread 5 download started\n",
      "32\n",
      "thread 5 executed successfully\n",
      "thread 6 download started\n",
      "40\n",
      "thread 6 executed successfully\n",
      "thread 7 download started\n",
      "48\n",
      "thread 7 executed successfully\n",
      "thread 8 download started\n",
      "56\n",
      "thread 8 executed successfully\n",
      "thread 9 download started\n",
      "64\n",
      "thread 9 executed successfully\n",
      "thread 10 download started\n",
      "72\n",
      "thread 10 executed successfully\n"
     ]
    }
   ],
   "source": [
    "# Original __init__ method\n",
    "# def __init__(self, group=None, target=None, name=None, \n",
    "#              args=(), kwargs=None, *, daemon=None):\n",
    "\n",
    "# Here, tweaks to __init__ are number and func used instead of name and target\n",
    "class MyThread(threading.Thread):\n",
    "    def __init__(self, number, func, args):\n",
    "        #becuase this class inherits from parent, must call __init__self()\n",
    "        threading.Thread.__init__(self)\n",
    "        self.number = number\n",
    "        self.func = func\n",
    "        self.args = args\n",
    "        \n",
    "    def run(self):\n",
    "        print(f'thread {self.number} download started') #tweak 1\n",
    "        self.func(*self.args)  # *allows for tuple args (it will unpack them)\n",
    "        print(f'thread {self.number} executed successfully') #tweak 2   \n",
    "    \n",
    "def double(number, cycles):\n",
    "    for i in range(cycles):\n",
    "        number += number\n",
    "    print(number)\n",
    "    \n",
    "threads_list = []\n",
    "\n",
    "for i in range(10):\n",
    "    t = MyThread(number = i+1, func = double, args = [i, 3])\n",
    "    threads_list.append(t)\n",
    "    t.start()\n",
    "    \n",
    "for t in threads_list:\n",
    "    t.join()"
   ]
  },
  {
   "cell_type": "markdown",
   "metadata": {},
   "source": [
    "## 5. Locks\n",
    "Locks are used when multiple threads could access a global variable at once to prevent the threads from running out of order"
   ]
  },
  {
   "cell_type": "code",
   "execution_count": 23,
   "metadata": {},
   "outputs": [
    {
     "name": "stdout",
     "output_type": "stream",
     "text": [
      "0\n"
     ]
    }
   ],
   "source": [
    "# In theory, running these 4 functions below with four separate threads should\n",
    "# produce a final answer of 0 (if run in order no matter what the count)\n",
    "# however, this doesn't happend because each thread has access to the global\n",
    "# variable x and can end up running out of order which causes incorrect \n",
    "# value calculation order\n",
    "\n",
    "x = 0\n",
    "COUNT = 100000\n",
    "\n",
    "# To use a lock, first must create it by using with lock: \n",
    "# each thread will only have access to the global variable x \n",
    "# if that particualr thread  is unlocked\n",
    "# note that lock: is succint code that replaces\n",
    "# lock.acquire & lock.release(), that method would look like:\n",
    "'''\n",
    "def add_2():\n",
    "    global x\n",
    "    lock.acquire()\n",
    "    for i in range(COUNT):\n",
    "        x += 2\n",
    "    lock.release()\n",
    "'''\n",
    "\n",
    "lock = threading.Lock()\n",
    "\n",
    "def add_2():\n",
    "    global x\n",
    "    with lock:\n",
    "        for i in range(COUNT):\n",
    "            x += 2\n",
    "\n",
    "def add_3():\n",
    "    global x\n",
    "    with lock:\n",
    "        for i in range(COUNT):\n",
    "            x += 3\n",
    "        \n",
    "def sub_4():\n",
    "    global x\n",
    "    with lock:\n",
    "        for i in range(COUNT):\n",
    "            x -= 4\n",
    "        \n",
    "def sub_1():\n",
    "    global x\n",
    "    with lock:\n",
    "        for i in range(COUNT):\n",
    "            x -= 1\n",
    "\n",
    "            \n",
    "t1 = threading.Thread(target = add_2)\n",
    "t2 = threading.Thread(target = add_3)\n",
    "t3 = threading.Thread(target = sub_4)\n",
    "t4 = threading.Thread(target = sub_1)\n",
    "\n",
    "t1.start()\n",
    "t2.start()\n",
    "t3.start()\n",
    "t4.start()\n",
    "\n",
    "t1.join()\n",
    "t2.join()\n",
    "t3.join()\n",
    "t4.join()\n",
    "\n",
    "# Should get 0 with lock, to see without, just remove with lock from funcs\n",
    "print(x)"
   ]
  },
  {
   "cell_type": "markdown",
   "metadata": {},
   "source": [
    "## 6. Queues\n",
    "The queue module is useful in threaded programming when information must be exchanged safely between multiple threads. The Queue class in this module implements all the required locking semantics."
   ]
  },
  {
   "cell_type": "code",
   "execution_count": 24,
   "metadata": {},
   "outputs": [
    {
     "name": "stdout",
     "output_type": "stream",
     "text": [
      "5\n",
      "True\n"
     ]
    }
   ],
   "source": [
    "# Create a queue\n",
    "q = queue.Queue() \n",
    "\n",
    "# put() adds items to a queue\n",
    "q.put(5)\n",
    "\n",
    "# get() will return the most recent input from the queue\n",
    "# note that get() will run infinitely if queue is empty\n",
    "print(q.get())\n",
    "\n",
    "# After q runs, it will be empty as it only contains a single item\n",
    "# if .get() is called after it runs, an infinite loop will occur.\n",
    "# empty() can be used as a check prior to get() from a queue\n",
    "# in order to prevent this from a happening (see FIFO example in cell below)\n",
    "print(q.empty())"
   ]
  },
  {
   "cell_type": "markdown",
   "metadata": {},
   "source": [
    "**There are 3 types of queues:**\n",
    "1. **FIFO** (First-in, First-out)\n",
    "2. **LIFO** (Last-in, First-out)\n",
    "3. **Priority** (Lowest values returned first, no matter the order added to queue)"
   ]
  },
  {
   "cell_type": "markdown",
   "metadata": {},
   "source": [
    "### 1. FIFO (First-in, First-out)"
   ]
  },
  {
   "cell_type": "code",
   "execution_count": 28,
   "metadata": {},
   "outputs": [
    {
     "name": "stdout",
     "output_type": "stream",
     "text": [
      "First In First Out (FIFO)\n",
      "0\n",
      "1\n",
      "2\n",
      "3\n",
      "4\n",
      "\n"
     ]
    }
   ],
   "source": [
    "# FIFO is the Queue() object default\n",
    "q = queue.Queue()\n",
    "\n",
    "print('First In First Out (FIFO)')\n",
    "for i in range(5):\n",
    "    q.put(i)\n",
    "\n",
    "while not q.empty():\n",
    "    print(q.get(), end = '\\n')\n",
    "    \n",
    "print()"
   ]
  },
  {
   "cell_type": "markdown",
   "metadata": {},
   "source": [
    "### 2. LIFO (Last-in, First-out)"
   ]
  },
  {
   "cell_type": "code",
   "execution_count": 29,
   "metadata": {},
   "outputs": [
    {
     "name": "stdout",
     "output_type": "stream",
     "text": [
      "Last In First Out (LIFO)\n",
      "4\n",
      "3\n",
      "2\n",
      "1\n",
      "0\n",
      "\n"
     ]
    }
   ],
   "source": [
    "print('Last In First Out (LIFO)')\n",
    "q = queue.LifoQueue()\n",
    "\n",
    "for i in range(5):\n",
    "    q.put(i)\n",
    "\n",
    "while not q.empty():\n",
    "    print(q.get(), end = '\\n')\n",
    "\n",
    "print()"
   ]
  },
  {
   "cell_type": "markdown",
   "metadata": {},
   "source": [
    "### 3. Priority (Lowest values returned first, no matter the order added to queue)"
   ]
  },
  {
   "cell_type": "code",
   "execution_count": 30,
   "metadata": {},
   "outputs": [
    {
     "name": "stdout",
     "output_type": "stream",
     "text": [
      "Priority Queue\n",
      "1\n",
      "2\n",
      "3\n",
      "4\n",
      "\n",
      "Priority Queue w/Strings\n",
      "Priority 1\n",
      "Priority 2\n",
      "Priority 3\n",
      "Priority 4\n"
     ]
    }
   ],
   "source": [
    "print('Priority Queue')\n",
    "q = queue.PriorityQueue()\n",
    "q.put(1)\n",
    "q.put(3)\n",
    "q.put(4)\n",
    "q.put(2)\n",
    "\n",
    "for i in range(q.qsize()):\n",
    "    print(q.get())\n",
    "    \n",
    "print()\n",
    "\n",
    "# Tuples can be used to explicity set non-numerical string data queue order\n",
    "print('Priority Queue w/Strings')\n",
    "q = queue.PriorityQueue()\n",
    "q.put((1, 'Priority 1'))\n",
    "q.put((3, 'Priority 3'))\n",
    "q.put((4, 'Priority 4'))\n",
    "q.put((2, 'Priority 2'))\n",
    "\n",
    "for i in range(q.qsize()):\n",
    "    print(q.get()[1])"
   ]
  },
  {
   "cell_type": "markdown",
   "metadata": {},
   "source": [
    "## 7. Event Objects (Allow threads to communicate through flags and switches)\n",
    "\n",
    "Events are one of the simplest mechanisms for communication between threads: one thread signals (or flags) an event and other threads wait for it. \n",
    "\n",
    "An event object manages an internal flag that can be set to true with the set() method and reset to false with the clear() method. \n",
    "\n",
    "The wait() method blocks until the flag is true."
   ]
  },
  {
   "cell_type": "code",
   "execution_count": 31,
   "metadata": {},
   "outputs": [
    {
     "name": "stdout",
     "output_type": "stream",
     "text": [
      "The Final Countdown Begun\n",
      "Starting random integer task\n",
      "\n",
      "6\n",
      "Starting random integer task\n",
      "15\n",
      "Starting random integer task\n",
      "6\n",
      "Starting random integer task\n",
      "13\n",
      "True\n",
      "Starting random integer task\n",
      "2\n",
      "Starting random integer task\n",
      "3\n",
      "Starting random integer task\n",
      "6\n",
      "Starting random integer task\n",
      "1\n",
      "Starting random integer task\n",
      "10\n",
      "Starting random integer task\n",
      "10\n",
      "Event has been cleared, random operation stops\n"
     ]
    }
   ],
   "source": [
    "def flag():\n",
    "    time.sleep(3)\n",
    "    event.set() # sets event to true, allows thread to run\n",
    "    print('The Final Countdown Begun\\n')\n",
    "    time.sleep(5)\n",
    "    event.clear() # sets event to false\n",
    "\n",
    "# This function will not start until event.set is true\n",
    "def start_operations():\n",
    "    event.wait()\n",
    "    while event.is_set():\n",
    "        print('Starting random integer task')\n",
    "        x = np.random.randint(1,16)\n",
    "        time.sleep(.5)\n",
    "        print(x)\n",
    "        if x == 13:\n",
    "            print('True')\n",
    "    print('Event has been cleared, random operation stops')\n",
    "\n",
    "# Create event object\n",
    "event = threading.Event()\n",
    "t1 = threading.Thread(target = flag)\n",
    "t2 = threading.Thread(target = start_operations)\n",
    "\n",
    "t1.start()\n",
    "t2.start()"
   ]
  },
  {
   "cell_type": "markdown",
   "metadata": {},
   "source": [
    "## 8. Image Downloading Examples"
   ]
  },
  {
   "cell_type": "code",
   "execution_count": 32,
   "metadata": {},
   "outputs": [
    {
     "name": "stdout",
     "output_type": "stream",
     "text": [
      "id: 0 | airplane.png downloaded\n",
      "id: 1 | arctichare.png downloaded\n",
      "id: 2 | baboon.png downloaded\n",
      "id: 3 | boat.png downloaded\n",
      "id: 4 | cat.png downloaded\n",
      "id: 5 | fruits.png downloaded\n",
      "id: 6 | frymire.png downloaded\n",
      "id: 7 | girl.png downloaded\n",
      "id: 8 | monarch.png downloaded\n",
      "id: 9 | mountain.png downloaded\n",
      "id: 10 | pool.png downloaded\n",
      "id: 11 | peppers.png downloaded\n",
      "id: 12 | serrano.png downloaded\n",
      "id: 13 | tulips.png downloaded\n",
      "All Images Downloaded In: 1.7112743854522705\n"
     ]
    }
   ],
   "source": [
    "# I got these images from: https://homepages.cae.wisc.edu/~ece533/images/\n",
    "\n",
    "# Single Thread Example \n",
    "image_names = ['airplane', 'arctichare', \n",
    "               'baboon', 'boat',\n",
    "               'cat', 'fruits', \n",
    "               'frymire', 'girl', \n",
    "               'monarch', 'mountain', \n",
    "               'pool', 'peppers', \n",
    "               'serrano','tulips']\n",
    "\n",
    "image_links = []\n",
    "\n",
    "for i, name in enumerate(image_names):\n",
    "    image_links.append(f'https://homepages.cae.wisc.edu/~ece533/images/{name}.png')\n",
    "\n",
    "def download_images(image_links, session=None):\n",
    "    if not session:\n",
    "        session = requests.Session()\n",
    "        \n",
    "    for i, link in enumerate(image_links):\n",
    "        try:\n",
    "            r = session.get(link)\n",
    "        except(requests.exceptions.RequestException, UnicodeError) as e:\n",
    "            print(e)\n",
    "        \n",
    "        print(f'id: {i} | {image_names[i]}.png downloaded')\n",
    "        \n",
    "        with open(os.path.join(os.getcwd(), f'img\\\\{image_names[i]}.png'), 'wb') as f:\n",
    "            f.write(r.content)\n",
    "\n",
    "start = time.time()\n",
    "download_images(image_links)\n",
    "end = time.time()\n",
    "print(f'All Images Downloaded In: {end - start}')"
   ]
  },
  {
   "cell_type": "code",
   "execution_count": 2,
   "metadata": {},
   "outputs": [
    {
     "name": "stdout",
     "output_type": "stream",
     "text": [
      "Thread-6 has joined\n",
      "Thread-7 has joined\n",
      "Thread-8 has joined\n",
      "Thread-9 has joined\n",
      "Thread-10 has joined\n",
      "Thread-11 has joined\n",
      "images downloaded in: 0.837482213973999\n"
     ]
    }
   ],
   "source": [
    "# Download Images Using Multithreading\n",
    "image_count = 0\n",
    "\n",
    "def download_images(q, session=None): \n",
    "    global image_count\n",
    "    \n",
    "    if not session:\n",
    "        session = requests.Session()\n",
    "    \n",
    "    while not q.empty():     \n",
    "        # While q not empty, try to connect to next queue link\n",
    "        try:\n",
    "            r = session.get(q.get(block=False)) \n",
    "            image_count += 1\n",
    "            q.task_done()\n",
    "        # If image unable to download or some other error, increase count\n",
    "        # Anyways becuase gone from queue\n",
    "        except(requests.exceptions.RequestException, UnicodeError) as e:\n",
    "            print(e)\n",
    "            image_count += 1\n",
    "            q.task_done()\n",
    "            continue    \n",
    "        # Save the image to desired directory\n",
    "        with open(os.path.join(os.getcwd(), f'img\\\\image_{image_count}.png'), 'wb') as f:\n",
    "            f.write(r.content)    \n",
    "\n",
    "image_names = ['airplane', 'arctichare', \n",
    "               'baboon', 'boat',\n",
    "               'cat', 'fruits', \n",
    "               'frymire', 'girl', \n",
    "               'monarch', 'mountain', \n",
    "               'pool', 'peppers', \n",
    "               'serrano','tulips']\n",
    "image_links = []\n",
    "\n",
    "# 1. Create the links from the image names and store in image_links list\n",
    "for i, name in enumerate(image_names):\n",
    "    image_links.append(f'https://homepages.cae.wisc.edu/~ece533/images/{name}.png')\n",
    "\n",
    "# 2. Create queue of image links FIFO (doesn't matter here)\n",
    "q = queue.Queue()\n",
    "\n",
    "# 3. Populate queue with the links (note, step 1 and this could be combined)\n",
    "#    Done this way for the sake of clarity\n",
    "for i, link in enumerate(image_links):\n",
    "    q.put(link)\n",
    "       \n",
    "threads = []\n",
    "start = time.time()\n",
    "\n",
    "# 4. Create the threads (here 6), set targe to download_images function\n",
    "#    with the queue of links as the function argument\n",
    "for i in range(6):\n",
    "    t = threading.Thread(target = download_images, args = (q,))\n",
    "    threads.append(t)\n",
    "    t.start()\n",
    "\n",
    "q.join() #DIAL THIS, WHY JOINED???? QUEUE\n",
    "\n",
    "for t in threads:\n",
    "    t.join()\n",
    "    print(t.name, 'has joined')\n",
    "    \n",
    "end = time.time()\n",
    "print(f'images downloaded in: {end - start}')"
   ]
  }
 ],
 "metadata": {
  "kernelspec": {
   "display_name": "Python 3",
   "language": "python",
   "name": "python3"
  },
  "language_info": {
   "codemirror_mode": {
    "name": "ipython",
    "version": 3
   },
   "file_extension": ".py",
   "mimetype": "text/x-python",
   "name": "python",
   "nbconvert_exporter": "python",
   "pygments_lexer": "ipython3",
   "version": "3.7.6"
  }
 },
 "nbformat": 4,
 "nbformat_minor": 2
}
