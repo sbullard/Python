{
 "cells": [
  {
   "cell_type": "markdown",
   "metadata": {},
   "source": [
    "## Regular Expressions (aka: regex)\n",
    "**Regular Expressions are the most basic tool for basic text processing and provides a formal language for specifying text strings. It can be used with all programming langs and the syntax is very similar between all.**\n",
    "\n",
    "[Regex How to Reference](https://docs.python.org/3/howto/regex.html#regex-howto)"
   ]
  },
  {
   "cell_type": "markdown",
   "metadata": {},
   "source": [
    "**In Python there are 4 general steps to using regex:**\n",
    "\n",
    "1. Import the regex module with import re.\n",
    "\n",
    "2. Create a Regex object with the re.compile() function\n",
    "\n",
    "3. Pass the string you want to examine into desired matching method which if succesful will return a Match object.\n",
    "   \n",
    "4. Once the Match object is obtained, built-in methods and attr can then be used to return the desired data"
   ]
  },
  {
   "cell_type": "code",
   "execution_count": 73,
   "metadata": {},
   "outputs": [
    {
     "name": "stdout",
     "output_type": "stream",
     "text": [
      "<class 're.Pattern'>\n",
      "<class 're.Match'>\n",
      "jackass\n"
     ]
    }
   ],
   "source": [
    "# Basic example of all 4 steps (sections discussed in detail below)\n",
    "\n",
    "# 1. Import re\n",
    "import re\n",
    "\n",
    "# 2. Creating a regex object using re.compile, this returns a Pattern object\n",
    "regx1 = re.compile(r'jackass')\n",
    "print(type(regx1))\n",
    "\n",
    "# 3.Pass the string you want to search into the regex objects seach() method\n",
    "#   which returns a Match object\n",
    "test_str = \"Don't do that You jackass!\"\n",
    "match1 = regx1.search(test_str)\n",
    "print(type(match1))\n",
    "\n",
    "# 4. Call the Match objects desired method, here group\n",
    "print(match1.group())"
   ]
  },
  {
   "cell_type": "markdown",
   "metadata": {},
   "source": [
    "**Regular expressions use the backslash character to indicate special forms or to allow special characters to be used without invoking their special meaning. This collides with Python’s usage of the same character for the same purpose in string literals;**\n",
    "\n",
    "**The solution is to use Python’s raw string notation for regular expression patterns; backslashes are not handled in any special way in a string literal prefixed with 'r'. So r\"\\n\" is a two-character string containing '\\' and 'n', while \"\\n\" is a one-character string containing a newline. Usually patterns will be expressed in Python code using this raw string notation. See the image below to see that using raw strings is much simpler than otherwise**\n",
    "\n",
    "<img src=\"img/backslash.png\">"
   ]
  },
  {
   "cell_type": "markdown",
   "metadata": {},
   "source": [
    "### Regex Syntax\n",
    "**Regex uses special characters called *metacharaters* that are used to signal specific match criteria for any given regular expression. These can be confusing and are explained in detail below**"
   ]
  },
  {
   "cell_type": "code",
   "execution_count": null,
   "metadata": {},
   "outputs": [],
   "source": [
    "# Regex Metacharacters\n",
    ".  ^  $  *  +  ?  { }  [ ]  \\  |  ( )"
   ]
  },
  {
   "cell_type": "markdown",
   "metadata": {},
   "source": [
    "### [  ] - Brackets\n",
    "---\n",
    "the brackets metacharater is used to specify specific set of characters\n",
    "you want to match and is called a character class. Chars can be listed individually or in a range separated with a dash.\n",
    "\n",
    "For example:\n",
    "* [abc] will match and of the charactes 'a', 'b, or 'c' and the set\n",
    "* [a-c] will do the same thing\n",
    "\n",
    "metacharactesr themselves are NOT active inside classes, for example:\n",
    "[adm?] will match any of the chars inside the class. '?' is usually a \n",
    "metacharacter, but it's stripped of this when inside a character class [ ]."
   ]
  },
  {
   "cell_type": "code",
   "execution_count": 8,
   "metadata": {},
   "outputs": [
    {
     "name": "stdout",
     "output_type": "stream",
     "text": [
      "['D', 'P', 'B', 'J']\n"
     ]
    }
   ],
   "source": [
    "# Brackets example\n",
    "# This example locates all capital letters in a string:\n",
    "import re\n",
    "test_str = 'Do you have a ProBlem Jackass?'\n",
    "re = re.compile(r'[A-Z]')\n",
    "print(re.findall(test_str))"
   ]
  },
  {
   "cell_type": "markdown",
   "metadata": {},
   "source": [
    "### ^ - Carat\n",
    "---\n",
    "The carat will match any characters NOT listed in a set\n",
    "Ex: [^5] will match all characters except 5.\n",
    "\n",
    "Note that the ^ must precede the regex, if it is located anywhere else\n",
    "inside the character class, it becomes just a char itself, like the ? ex abv.\n",
    "\n",
    "Special exception: ^[A-Z] - matches capital letters at the start of a line"
   ]
  },
  {
   "cell_type": "code",
   "execution_count": 9,
   "metadata": {},
   "outputs": [
    {
     "name": "stdout",
     "output_type": "stream",
     "text": [
      "['o', ' ', 'y', 'o', 'u', ' ', 'h', 'a', 'v', 'e', ' ', 'a', ' ', 'r', 'o', 'l', 'e', 'm', ' ', 'a', 'c', 'k', 'a', 's', 's', '?']\n",
      "\n",
      "['o', 'y', 'o', 'u', 'h', 'a', 'v', 'e', 'a', 'r', 'o', 'l', 'e', 'm', 'a', 'c', 'k', 'a', 's', 's', '?']\n",
      "\n",
      "['o', 'y', 'o', 'u', 'h', 'a', 'v', 'e', 'a', 'r', 'o', 'l', 'e', 'm', 'a', 'c', 'k', 'a', 's', 's']\n"
     ]
    }
   ],
   "source": [
    "# Carat example\n",
    "\n",
    "# The regex r'[^A-Z]' mathces all chars that are NOT capital letters\n",
    "# Note, the carat is INSIDE of the [ ], also note whitespace is included\n",
    "import re\n",
    "test_str = 'Do you have a ProBlem Jackass?'\n",
    "regex = re.compile(r'[^A-Z]')\n",
    "print(regex.findall(test_str))\n",
    "\n",
    "print()\n",
    "\n",
    "# To remove whitespace use, this says find all not A-Z or whitespace:\n",
    "regex = re.compile(r'[^A-Z\\s]')\n",
    "print(regex.findall(test_str))\n",
    "\n",
    "print()\n",
    "\n",
    "# To remove ? as well, this says find all not A-Z, whitespace, or ?\n",
    "regex = re.compile(r'[^A-Z\\s\\?]')\n",
    "print(regex.findall(test_str))"
   ]
  },
  {
   "cell_type": "markdown",
   "metadata": {},
   "source": [
    "### \\ - Backslash\n",
    "---\n",
    "The backslash is one of the more important metachars. As in Python strings, this char can be followed by various chars to signal special sequences. It also can be used to escape all the metachars when needed."
   ]
  },
  {
   "cell_type": "code",
   "execution_count": 10,
   "metadata": {},
   "outputs": [],
   "source": [
    "# Ex: if you need to match [ or \\ you would use \\[ and \\\\ respectively\n",
    "\n",
    "# Some of the special sequences beginning with \\ represent pre-defined sets of\n",
    "# chars that are often useful.\n",
    "\n",
    "# the sequences listed below can be included inside of a char class.\n",
    "# ex: [\\s,.]\n",
    "# the above would match any whitespace char  or any ,  or any ."
   ]
  },
  {
   "cell_type": "markdown",
   "metadata": {},
   "source": [
    "**Common backslash sequences**\n",
    "\n",
    "1. **\\d** matches any decimal digit; = to [0-9]\n",
    "2. **\\D** matches any non-digit char = to [^0-9]\n",
    "3. **\\s** matches any whitespace char = to [ \\t\\n\\r\\f\\v]\n",
    "4. **\\S** matches any non-whitespace char = to [^ \\t\\n\\r\\f\\v]\n",
    "5. **\\w** matches any alphanumeric char = to [a-zA-Z0-9_]\n",
    "6. **\\W** matches any non-aplhanumeric char = to [^a-zA-Z0-9_]\n",
    "\n",
    "[Complete sequence reference](https://docs.python.org/3/library/re.html#re-syntax)"
   ]
  },
  {
   "cell_type": "markdown",
   "metadata": {},
   "source": [
    "### .  - Period\n",
    "---\n",
    "This period metacharacter matches anything except a newline char and there's an alternative mode (re.DOTALL) that will match a newline char. This special char is often used when you want to match 'any character.'"
   ]
  },
  {
   "cell_type": "code",
   "execution_count": 11,
   "metadata": {},
   "outputs": [
    {
     "name": "stdout",
     "output_type": "stream",
     "text": [
      "['begun', 'beg5n']\n",
      "\n",
      "['.']\n",
      "\n",
      "['H', 'a', 'v', 'e', ' ', 'w', 'e', ' ', 'b', 'e', 'g', 'u', 'n', ' ', 'y', 'e', 't', '?', ' ', 'W', 'h', 'a', 't', '.', ' ', 'W', 'h', 'e', 'n', ' ', 'a', 'r', 'e', ' ', 'w', 'e', ' ', 'g', 'o', 'i', 'n', 'g', ' ', 't', 'o', ' ', 'b', 'e', 'g', '5', 'n', '?']\n"
     ]
    }
   ],
   "source": [
    "# Period example\n",
    "\n",
    "import re\n",
    "test_str = 'Have we begun yet? What. When are we going to beg5n?'\n",
    "\n",
    "# . means anything but whitespace will work\n",
    "re1 = re.compile(r'beg.n') \n",
    "print(re1.findall(test_str))\n",
    "print()\n",
    "\n",
    "# It is EXTREMEMLTY important to remember that a . needs to have a \\. in front\n",
    "# or else it will return all possible chars. \n",
    "re2 = re.compile(r'\\.')\n",
    "print(re2.findall(test_str))\n",
    "print()\n",
    "\n",
    "# Here . used to return all characters (including whitespace) from a string. \n",
    "# Note this returns a tokenized list. This is an easy way to\n",
    "re3 = re.compile(r'.')\n",
    "print(re3.findall(test_str))"
   ]
  },
  {
   "cell_type": "markdown",
   "metadata": {},
   "source": [
    "### * - Star (Repeating Char 1)\n",
    "---\n",
    "Any char preceding a * can be matched ZERO OR MORE previous chars. ex: ca*t would match 'caaat' three times as there are 3 a's and ca*t would match 'ct' zero times as there are 0 a's note that even thoush 'ct' has no a's, it still will match the c and t "
   ]
  },
  {
   "cell_type": "code",
   "execution_count": 12,
   "metadata": {},
   "outputs": [
    {
     "name": "stdout",
     "output_type": "stream",
     "text": [
      "['hooooooooly', 'moly']\n"
     ]
    }
   ],
   "source": [
    "# Star example\n",
    "\n",
    "import re\n",
    "test_str = 'hooooooooly moly Batman?'\n",
    "re1 = re.compile(r'ho*ly|moly')\n",
    "print(re1.findall(test_str))"
   ]
  },
  {
   "cell_type": "markdown",
   "metadata": {},
   "source": [
    "### + - Plus (Repeating Char 2)\n",
    "---\n",
    "The difference between + and * is that + REQUIRES AT LEAST ONE OCCURANCE of the previous char\n",
    "\n",
    "Examples: \n",
    "* ca+t would match 'caaat' as a is present 3 times\n",
    "* ca+t WOULD NOT match 'ct' as there is no 'a' present"
   ]
  },
  {
   "cell_type": "code",
   "execution_count": 13,
   "metadata": {},
   "outputs": [
    {
     "name": "stdout",
     "output_type": "stream",
     "text": [
      "['hooooooooly']\n"
     ]
    }
   ],
   "source": [
    "# Plus example\n",
    "\n",
    "import re\n",
    "test_str = 'hooooooooly moly Batman?'\n",
    "re1 = re.compile(r'ho+ly')\n",
    "print(re1.findall(test_str))"
   ]
  },
  {
   "cell_type": "markdown",
   "metadata": {},
   "source": [
    "### ? - Question mark (Repeating Char 3)\n",
    "---\n",
    "This char matches either once or zero times, and can be thought of as marking the previous character as optional.\n",
    "\n",
    "Example:\n",
    "* home-?brew would match either 'homebrew' or 'home-brew'"
   ]
  },
  {
   "cell_type": "code",
   "execution_count": 14,
   "metadata": {},
   "outputs": [
    {
     "name": "stdout",
     "output_type": "stream",
     "text": [
      "['color']\n"
     ]
    }
   ],
   "source": [
    "# Question mark example\n",
    "\n",
    "import re\n",
    "test_str = 'Nice hair color?'\n",
    "re1 = re.compile(r'colou?r')\n",
    "print(re1.findall(test_str))"
   ]
  },
  {
   "cell_type": "markdown",
   "metadata": {},
   "source": [
    "### { } - Curly Braces (Repeating Char 4)\n",
    "---\n",
    "Curly braces are a little more complicated.\n",
    "\n",
    "Example: <br>\n",
    "{m,n} would mean there must be at least m repititions, and at most n"
   ]
  },
  {
   "cell_type": "code",
   "execution_count": 15,
   "metadata": {},
   "outputs": [
    {
     "name": "stdout",
     "output_type": "stream",
     "text": [
      "['a/b']\n",
      "['a///b']\n",
      "[]\n"
     ]
    }
   ],
   "source": [
    "# Curly braces example\n",
    "\n",
    "import re \n",
    "\n",
    "test_str1 = 'a/b'\n",
    "test_str2 = 'a///b'\n",
    "test_str3 = 'a///////b'\n",
    "\n",
    "# Here {1,3} means the / must at least appear once and no more than 3 times.\n",
    "re1 = re.compile(r'a/{1,3}b')\n",
    "\n",
    "# Thus the above regex would match a/b, a//b, a///b, but not a////b\n",
    "print(re1.findall(test_str1))\n",
    "print(re1.findall(test_str2))\n",
    "print(re1.findall(test_str3))"
   ]
  },
  {
   "cell_type": "markdown",
   "metadata": {},
   "source": [
    "### | - Pipe is used for disjunction aka similar to or in a for statement\n",
    "---\n",
    "* ex1: groundhog|woodchuck  (means groundhog or woodchuck)\n",
    "* ex2: a|b|c (a or b or c,  same as [abc])\n",
    "* ex3: [gG]roundhog|[Ww]oodchuck (takes either cap or lowercase first letter)"
   ]
  },
  {
   "cell_type": "code",
   "execution_count": 16,
   "metadata": {},
   "outputs": [
    {
     "name": "stdout",
     "output_type": "stream",
     "text": [
      "['you', 'jackass']\n",
      "['Pro', 'jack', 'ass']\n",
      "['Do', 'jackass']\n"
     ]
    }
   ],
   "source": [
    "# Pipe example\n",
    "\n",
    "import re\n",
    "test_str = 'Do you have a ProBlem jackass?'\n",
    "re1 = re.compile(r'you|jackass')\n",
    "re2 = re.compile(r'jack|ass|Pro')\n",
    "re3 = re.compile(r'[Jj]ackass|[Dd]o')\n",
    "\n",
    "print(re1.findall(test_str))\n",
    "print(re2.findall(test_str))\n",
    "print(re3.findall(test_str))"
   ]
  },
  {
   "cell_type": "markdown",
   "metadata": {},
   "source": [
    "### \\$ - Dollar Sign\n",
    "---\n",
    "The \\$ symbol matches characters at the end of a line."
   ]
  },
  {
   "cell_type": "code",
   "execution_count": 17,
   "metadata": {},
   "outputs": [
    {
     "name": "stdout",
     "output_type": "stream",
     "text": [
      "['S']\n",
      "[]\n",
      "['?']\n"
     ]
    }
   ],
   "source": [
    "# Dollar sign example\n",
    "\n",
    "import re\n",
    "test_str = 'Do you have a ProBlem jackasS?'\n",
    "re1 = re.compile(r'[S$]')\n",
    "\n",
    "# [A-Z]$ - matches capital letters at the end of a line\n",
    "re2 = re.compile(r'[A-Z]$')\n",
    "\n",
    "re3 = re.compile(r'[?$]')\n",
    "\n",
    "print(re1.findall(test_str))\n",
    "print(re2.findall(test_str)) #note end of line contains ? not S so no match\n",
    "print(re3.findall(test_str))"
   ]
  },
  {
   "cell_type": "markdown",
   "metadata": {},
   "source": [
    "### Pattern objects and their matching methods\n",
    "---\n",
    "**When compiling a regex there are some flags that can be used to automatically perfom some regex calcs prior to any actual anaylsis. These are listed bellow**\n",
    "* **ASCII** - matches only on ASCII chars\n",
    "* **DOTALL, S** - Make . match any char, including newlines\n",
    "* **INGORECASE, I** - Do case-insensitive matches\n",
    "* **LOCALE, L** - Do locale-aware match\n",
    "* **MULTILINE, M** - Multi-line matching, affecting ^\n",
    "* **VERBOSE** - Enable verbose RE's, which can be more easily understood\n",
    "\n",
    "**Once a regex is compiled a Pattern object is returned (step 2 of the regex process process). Pattern objects have serveral methods and attributes, below are the most siginifcant ones.\n",
    "\n",
    "* **match()** - Determines if the RE matches at the beginning of the string\n",
    "* **search()** - Scans through a string, looking for any location with match\n",
    "* **findall()** - Finds all substrings where RE matches, returns as a list\n",
    "* **finditer()** - Finda all substrings with RE match, returns as an iterator\n",
    "* **sub()** - DIAL THIS\n",
    "\n",
    "***Note that match() and search() both return None if no match can be found. \n",
    "\n",
    "For a complete method/attr reference see the re docs**\n",
    "[regex docs](https://docs.python.org/3/library/re.html#module-re)"
   ]
  },
  {
   "cell_type": "code",
   "execution_count": 70,
   "metadata": {},
   "outputs": [
    {
     "name": "stdout",
     "output_type": "stream",
     "text": [
      "<class 're.Pattern'>\n",
      "<class 're.Match'>\n",
      "<re.Match object; span=(0, 11), match='12 drummers'>\n"
     ]
    }
   ],
   "source": [
    "# Basic usage of match()\n",
    "xmasRegex = re.compile(r'\\d+\\s\\w+')\n",
    "\n",
    "# Note that xmasRegex is a Pattern object\n",
    "print(type(xmasRegex))\n",
    "\n",
    "# The match() method only returns the first match found\n",
    "test = xmasRegex.match('12 drummers, 11pipers, 10 lords, 9ladies')\n",
    "\n",
    "# Note that test is a Match object, which means that for further analysis\n",
    "# a Match object method must be used, (see next section)\n",
    "print(type(test))\n",
    "print(test)"
   ]
  },
  {
   "cell_type": "code",
   "execution_count": 18,
   "metadata": {},
   "outputs": [
    {
     "name": "stdout",
     "output_type": "stream",
     "text": [
      "<class 'list'>\n",
      "['12 drummers', '10 lords']\n"
     ]
    }
   ],
   "source": [
    "# Basic usage of findall()\n",
    "\n",
    "# this regex finds any number of digits ,followed by a single whitespace,\n",
    "# followed by any number of letter characters\n",
    "xmasRegex = re.compile(r'\\d+\\s\\w+')\n",
    "\n",
    "# findall() returns all matches within the string. \n",
    "test = xmasRegex.findall('12 drummers, 11pipers, 10 lords, 9ladies')\n",
    "\n",
    "# note that test here is a list as findall() returns a list of all matches\n",
    "print(type(test))\n",
    "print(test)"
   ]
  },
  {
   "cell_type": "markdown",
   "metadata": {},
   "source": [
    "### Matching objects and their methods\n",
    "\n",
    "**A successfully run Pattern method will return a Match object which will contain info about the match, where it starts and ends, the substring it matched, and more. This object can be queried for more info about the matching string using it's built-in methods/attr**\n",
    "\n",
    "* **group ()** - Returns a string matched by the RE\n",
    "* **start ()** - Returns the starting position of the match\n",
    "* **end ()**   - Returns the ending position of the match\n",
    "* **span ()**  - Returns a tuple containing the (start, end) positions of the match "
   ]
  },
  {
   "cell_type": "markdown",
   "metadata": {},
   "source": [
    "### Grouping\n",
    "**Frequently you need to obtain more information than just whether the RE matched or not. Regular expressions are often used to dissect strings by writing a RE divided into several subgroups which match different components of interest. for example a phone number or email.**\n",
    "\n",
    "**Groups indicated with '(', ')' also capture the starting and ending index of the text that they match; this can be retrieved by passing an argument to group(), start(), end(), and span(). Groups are numbered starting with 0. Group 0 is always present; it’s the whole RE, so match object methods all have group 0 as their default argument.**"
   ]
  },
  {
   "cell_type": "code",
   "execution_count": 19,
   "metadata": {},
   "outputs": [
    {
     "name": "stdout",
     "output_type": "stream",
     "text": [
      "678\n",
      "327-8581\n",
      "678-327-8581\n",
      "('678', '327-8581')\n"
     ]
    }
   ],
   "source": [
    "# () are used to create groups.\n",
    "\n",
    "import re \n",
    "\n",
    "#note (\\d\\d\\d) is a group with three digits\n",
    "phoneNum2 = re.compile(r'(\\d\\d\\d)-(\\d\\d\\d-\\d\\d\\d\\d)')\n",
    "mo = phoneNum2.search('My number is 678-327-8581')\n",
    "\n",
    "# group()can return subgroups, or multiple groups at a time\n",
    "\n",
    "print(mo.group(1))\n",
    "print(mo.group(2))\n",
    "print(mo.group())\n",
    "\n",
    "# groups() returns tuple containing all groups.\n",
    "print(mo.groups())"
   ]
  },
  {
   "cell_type": "markdown",
   "metadata": {},
   "source": [
    "### More examples of common regex queries\n"
   ]
  },
  {
   "cell_type": "code",
   "execution_count": 20,
   "metadata": {},
   "outputs": [
    {
     "name": "stdout",
     "output_type": "stream",
     "text": [
      "['the', 'the', 'the', 'The', 'the']\n",
      "[' the ', ' the ', ' The ']\n"
     ]
    }
   ],
   "source": [
    "# Finding multiple occurences of the same word with different capitlization\n",
    "import re\n",
    "test_str = 'Where in the hell is the other remote? The blithe one is here!'\n",
    "\n",
    "# This locates all upper & lowercase 'the', however, it also captures 'the'\n",
    "# in the word other, which is incorrect if you just want the word 'the' \n",
    "re1 = re.compile(r'[Tt]he')\n",
    "print(re1.findall(test_str))\n",
    "\n",
    "# To solve this issue we want 'the' without any other chars around it\n",
    "re1 = re.compile(r'[^A-Za-z][Tt]he[^A-Za-z]')\n",
    "print(re1.findall(test_str))"
   ]
  },
  {
   "cell_type": "code",
   "execution_count": null,
   "metadata": {},
   "outputs": [],
   "source": [
    "# Note that in the example above two types of errors are encountered\n",
    "\n",
    "# Type I - False Positives (matching strings that should not match)\n",
    "# Type II = False Negatives (not matching things that should be matched) "
   ]
  },
  {
   "cell_type": "code",
   "execution_count": 105,
   "metadata": {},
   "outputs": [
    {
     "name": "stdout",
     "output_type": "stream",
     "text": [
      "Num1: [('770', '595', '5539')]\n",
      "Num2: [('770', '595', '5539')]\n",
      "Num3: [('770', '595', '5539')]\n",
      "Num4: []\n",
      "Num4 Fixed: [('770', '595', '5539')]\n",
      "The number you entered: 770,595,5539 is not formatted properly\n",
      "Num5: [('', '595', '5539')]\n",
      "Num4 Fixed: [('(770)', '595', '5539')]\n"
     ]
    }
   ],
   "source": [
    "# Complex phone number regex\n",
    "\n",
    "import re\n",
    "\n",
    "# For a US phone # there can be 4 possible sections\n",
    "# 1. country code(+1) OPTIONAL\n",
    "# 2. area code (3 digits) OPTIONAL\n",
    "# 3. first 3 digits REQUIRED\n",
    "# 4. Final 4 digits REQUIRED\n",
    "# 5. all symbols are optionsl (. , - *)\n",
    "\n",
    "# Here each numerical section is grouped with ()\n",
    "# I didn't include the country code, but the area code is optional like ()?\n",
    "# Note that each number group has the same setup ([]{})\n",
    "# for example ([0-9]{2,3}) means no less than 2 and no more than 3 digits\n",
    "# note that - and . are both escaped with \\ and made optional with ? like \\.?\n",
    "re1 = re.compile(r'([0-9]{2,3})?\\-?\\.?([0-9]{2,3})\\-?\\.?([0-9]{4})')\n",
    "\n",
    "test_num1 = '7705955539'\n",
    "test_num2 = '770-595-5539'\n",
    "test_num3 = '770.595.5539'\n",
    "test_num4 = '770 595 5539'\n",
    "\n",
    "print(f'Num1: {re1.findall(test_num1)}')\n",
    "print(f'Num2: {re1.findall(test_num2)}')\n",
    "print(f'Num3: {re1.findall(test_num3)}')\n",
    "print(f'Num4: {re1.findall(test_num4)}') # this returns empty []because no \\s+\n",
    "\n",
    "# Below is a modified regex to include empty whitspace to fix num4 issue.\n",
    "# \\s+ was added and note that all special chars are optional with [\\-\\.\\s+]?\n",
    "# this is a little easier to understand than the first example. And it works\n",
    "# for all the numbers\n",
    "re2 = re.compile(r'([0-9]{2,3})?[\\-\\.\\s+]?([0-9]{2,3})[\\-\\.\\s+]?([0-9]{4})')\n",
    "print(f'Num4 Fixed: {re2.findall(test_num4)}')\n",
    "\n",
    "# In a production environment some type of check would need to be implemented\n",
    "# to produce an error message if incorrect format entered. Because findall()\n",
    "# returns an empty list if there are no matches, this is an easy method\n",
    "test_num5 = '770,595,5539'\n",
    "if len(re2.findall(test_num5)) is 0:\n",
    "    print(f'The number you entered: {test_num5} is not formatted properly')\n",
    "\n",
    "# Below () surround the area code and this is not in either\n",
    "# of the above regex's, therefore an empty string is returned for area code\n",
    "test_num6 = '(770)595-5539'\n",
    "print(f'Num5: {re2.findall(test_num6)}')\n",
    "\n",
    "# Here a revised regex to account for the brackets around the area code\n",
    "# that still works with all other numbers, note both brackets were made\n",
    "# optional \\(? and \\)?\n",
    "re2 = re.compile(r'(\\(?[0-9]{2,3}\\)?)?[\\-\\.\\s+]?([0-9]{2,3})[\\-\\.\\s+]?([0-9]{4})')\n",
    "print(f'Num4 Fixed: {re2.findall(test_num6)}')"
   ]
  },
  {
   "cell_type": "markdown",
   "metadata": {},
   "source": [
    "**The biggest takaway from the above example is that regular expressions get complicated quickly and that finding ways to simplify regex queries is optimal but can be time consuming.**"
   ]
  }
 ],
 "metadata": {
  "kernelspec": {
   "display_name": "Python 3",
   "language": "python",
   "name": "python3"
  },
  "language_info": {
   "codemirror_mode": {
    "name": "ipython",
    "version": 3
   },
   "file_extension": ".py",
   "mimetype": "text/x-python",
   "name": "python",
   "nbconvert_exporter": "python",
   "pygments_lexer": "ipython3",
   "version": "3.7.6"
  }
 },
 "nbformat": 4,
 "nbformat_minor": 4
}
