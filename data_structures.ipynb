{
 "cells": [
  {
   "cell_type": "markdown",
   "metadata": {},
   "source": [
    "# Data Structures\n",
    "---\n",
    "### Index\n",
    "**There are four main data structures in the Python programming language:**\n",
    "\n",
    "1. **List** - a collection which is ordered and changeable (mutable). Allows duplicate members.\n",
    "2. **Dictionary** - is a collection which is unordered, changeable and indexed. No duplicate members.\n",
    "3. **Set** - a collection which is unordered and unindexed. No duplicate members.\n",
    "4. **Tuple** - a collection which is ordered and unchangeable. Allows duplicate members.\n",
    "\n",
    "**There are also a number of built-in functions that work well with iterables (lists, dicts, etc.) including:**\n",
    "5. **Map ()**\n",
    "6. **Filter ()**\n",
    "7. **Lambda Functions**\n",
    "8. **Reduce ()**"
   ]
  },
  {
   "cell_type": "markdown",
   "metadata": {},
   "source": [
    "## 1. Lists\n",
    "---\n",
    "\n",
    "* Use lists when order matters and/or if duplicate elements may exist\n",
    "* Lists can contain other iterables (dicts, tuples, ect.)\n",
    "* Lists are slower than all other iterables (dicts, sets, tuples)"
   ]
  },
  {
   "cell_type": "code",
   "execution_count": 8,
   "metadata": {},
   "outputs": [
    {
     "name": "stdout",
     "output_type": "stream",
     "text": [
      "['__add__', '__class__', '__contains__', '__delattr__', '__delitem__', '__dir__', '__doc__', '__eq__', '__format__', '__ge__', '__getattribute__', '__getitem__', '__gt__', '__hash__', '__iadd__', '__imul__', '__init__', '__init_subclass__', '__iter__', '__le__', '__len__', '__lt__', '__mul__', '__ne__', '__new__', '__reduce__', '__reduce_ex__', '__repr__', '__reversed__', '__rmul__', '__setattr__', '__setitem__', '__sizeof__', '__str__', '__subclasshook__', 'append', 'clear', 'copy', 'count', 'extend', 'index', 'insert', 'pop', 'remove', 'reverse', 'sort']\n",
      "\n",
      "Help on built-in function append:\n",
      "\n",
      "append(object, /) method of builtins.list instance\n",
      "    Append object to the end of the list.\n",
      "\n",
      "None\n"
     ]
    }
   ],
   "source": [
    "list_ex = list()\n",
    "# or list_ex = []\n",
    "\n",
    "# There are a few options for seeing a functions methods: \n",
    "# 1. dir(functionName)\n",
    "# 2. help(functionName)\n",
    "# 2. functionName.<TAB> (In Jupyter Notebook)\n",
    "print(dir(list_ex))\n",
    "print()\n",
    "\n",
    "# To see a particular functions purpose help()\n",
    "print(help(list_ex.append))"
   ]
  },
  {
   "cell_type": "code",
   "execution_count": 4,
   "metadata": {},
   "outputs": [
    {
     "name": "stdout",
     "output_type": "stream",
     "text": [
      "original list:\n",
      "[1, 2, 3]\n",
      "\n",
      "grab each element with basic for loop\n",
      "1\n",
      "2\n",
      "3\n",
      "\n",
      "enumerate() for loop returns index, values from list\n",
      "index: 0 | values: 1\n",
      "index: 1 | values: 2\n",
      "index: 2 | values: 3\n",
      "index: 3 | values: dood\n",
      "\n",
      "[1, 2, 3, 'dood']\n",
      "1\n",
      "dood\n",
      "3\n",
      "[2, 3]\n",
      "[3, 'dood']\n",
      "[1, 2]\n"
     ]
    }
   ],
   "source": [
    "lst1 = [1, 2, 3]\n",
    "print('original list:')\n",
    "print(lst1)\n",
    "\n",
    "# Grab each element using basic for loop\n",
    "print(f'\\ngrab each element with basic for loop')\n",
    "for num in lst1:\n",
    "    print(num)\n",
    "    \n",
    "# Append to list, doesn't have to be same type,\n",
    "# can append lists, dicts, tuples, ect. \n",
    "lst1.append('dood')\n",
    "print()\n",
    "\n",
    "# ***IMPORTANT***\n",
    "# enumerate() is used to return list index & values\n",
    "# get index, values from list w/basic for loop\n",
    "print('enumerate() for loop returns index, values from list')\n",
    "for indx, vals in enumerate(lst1):\n",
    "        print(f'index: {indx} | values: {vals}')  \n",
    "\n",
    "# Indexing and slicing works as expected\n",
    "print() \n",
    "print(lst1)\n",
    "print(lst1[0])\n",
    "print(lst1[-1])\n",
    "print(lst1[-2])\n",
    "print(lst1[1:3])\n",
    "print(lst1[2:])\n",
    "print(lst1[:2])"
   ]
  },
  {
   "cell_type": "markdown",
   "metadata": {},
   "source": [
    "### List Comprehensions (one-line loops)\n",
    "---\n",
    "\n",
    "**List Comprehensions can often simplify loops. They are more efficient than a regular loop when using smaller amounts of data, but less so the larger the data becomes.** <br><br>\n",
    "**List comprehensions can get messy fast, so only use these if they can be kept simple and readable.**"
   ]
  },
  {
   "cell_type": "code",
   "execution_count": 9,
   "metadata": {},
   "outputs": [
    {
     "name": "stdout",
     "output_type": "stream",
     "text": [
      "original list: [1, 3, 4, 'dood']\n",
      "last element removed list[:-1]: [1, 3, 4]\n",
      "\n",
      "print([x for x in tlist])\n",
      "[1, 3, 4]\n",
      "\n",
      "newlst = [x for x in tlist]\n",
      "[1, 3, 4, 5]\n",
      "\n",
      "sqlist = [x**2 for x in tlist]\n",
      "[1, 9, 16, 25]\n",
      "\n",
      "range can also be used:\n",
      "[0, 1, 4, 9, 16, 25, 36, 49, 64, 81]\n",
      "\n",
      "strings also work\n",
      "['dummy', 'dildoo']\n",
      "\n",
      "['Citizen Kane', 'Raiders of the Lost Ark']\n"
     ]
    }
   ],
   "source": [
    "# List Comprehension Examples\n",
    "\n",
    "# Remove last element\n",
    "lst1 = [1, 3, 4, 'dood']\n",
    "tlist = lst1[:-1]\n",
    "\n",
    "print(f'original list: {lst1}')\n",
    "print(f'last element removed list[:-1]: {tlist}')\n",
    "\n",
    "# One line for loop, if put in a varibale creates a list\n",
    "print('\\nprint([x for x in tlist])')\n",
    "print([x for x in tlist])\n",
    "\n",
    "tlist.append(5)\n",
    "print('\\nnewlst = [x for x in tlist]')\n",
    "newlst = [x for x in tlist]\n",
    "print(newlst)\n",
    "\n",
    "print('\\nsqlist = [x**2 for x in tlist]')\n",
    "sqlist = [x**2 for x in tlist]\n",
    "print(sqlist)\n",
    "\n",
    "print()\n",
    "print(f'range can also be used:')\n",
    "print([x**2 for x in range(10)])\n",
    "\n",
    "str_list = ['suck', 'blow', 'dummy', 'dildoo', 'gross']\n",
    "print()\n",
    "print(f'strings also work')\n",
    "print([word for word in str_list if word.startswith('d')])\n",
    "\n",
    "# If a list of tuples is used with two values in each tuple, a \n",
    "# list comprehension can be used to extract just the desired output\n",
    "# example below uses movie title an year relased\n",
    "movies = [('Citizen Kane', 1941), ('No Country For Old Men', 2007),\n",
    "          ('The Aviator', 2004), ('Raiders of the Lost Ark', 1981)]\n",
    "print()\n",
    "print([title for (title, year) in movies if year < 2000])"
   ]
  },
  {
   "cell_type": "code",
   "execution_count": 1,
   "metadata": {},
   "outputs": [
    {
     "name": "stdout",
     "output_type": "stream",
     "text": [
      "[33.33, 31.91, 30.91, 21.67, 20.0]\n"
     ]
    }
   ],
   "source": [
    "# Performing calculations over values from multiple lists\n",
    "distances = [10,    15,    17,  26,  20]\n",
    "times     = [0.3, 0.47, 0.55, 1.20, 1.0]\n",
    "\n",
    "# Basic loop method\n",
    "# speeds = []\n",
    "# for i in range(len(distances)):\n",
    "#     speeds.append(round(distances[i] / times[i], 2))\n",
    "# print(speeds)\n",
    "\n",
    "# List comprehension method (note calculation d/t is key)\n",
    "# could be d + t, d * t, etc..\n",
    "speeds = [round(d/t, 2) for d, t in zip(distances, times)]\n",
    "print(speeds)"
   ]
  },
  {
   "cell_type": "code",
   "execution_count": 10,
   "metadata": {},
   "outputs": [
    {
     "name": "stdout",
     "output_type": "stream",
     "text": [
      "114.75\n"
     ]
    }
   ],
   "source": [
    "# Another basic list comprehension summing products\n",
    "quantities = [1, 2, 3, 4, 5]\n",
    "prices = [2.25, 4.50, 6.75, 8, 10.25]\n",
    "\n",
    "# Note that sum() is used in conjunction with the list comprehension\n",
    "total = sum([q * p for q, p in zip(quantities, prices)])\n",
    "print(total)"
   ]
  },
  {
   "cell_type": "code",
   "execution_count": 11,
   "metadata": {},
   "outputs": [
    {
     "name": "stdout",
     "output_type": "stream",
     "text": [
      "original list:\n",
      "[1, 2, 3, 4, 5, 6, 7, 8, 9, 10]\n",
      "\n",
      "even vals:\n",
      "[2, 4, 6, 8, 10]\n",
      "\n",
      "odd vals:\n",
      "[1, 3, 5, 7, 9]\n",
      "\n",
      "True for odds:\n",
      "[True, False, True, False, True, False, True, False, True, False]\n"
     ]
    }
   ],
   "source": [
    "# Conditional inside list comprehensions\n",
    "\n",
    "lst3 = [1, 2, 3, 4, 5, 6, 7, 8, 9, 10]\n",
    "print('original list:')\n",
    "print(lst3)\n",
    "\n",
    "newlst3 = [x for x in lst3 if x % 2 == 0]\n",
    "print(f'\\neven vals:')\n",
    "print(newlst3)\n",
    "\n",
    "newlst4 = [x for x in lst3 if x % 2 != 0]\n",
    "print(f'\\nodd vals:')\n",
    "print(newlst4)\n",
    "\n",
    "# True/False lists created if conditonal placed first\n",
    "newlst5 = [x % 2 != 0 for x in lst3]\n",
    "print('\\nTrue for odds:')\n",
    "print(newlst5)"
   ]
  },
  {
   "cell_type": "code",
   "execution_count": 13,
   "metadata": {},
   "outputs": [
    {
     "name": "stdout",
     "output_type": "stream",
     "text": [
      "\n",
      "[(1, 2), (1, 4), (1, 6), (3, 2), (3, 4), (3, 6), (5, 2), (5, 4), (5, 6)]\n"
     ]
    }
   ],
   "source": [
    "# Cartesian Product Calculation using list comprehensions\n",
    "# Note the cartesian product is all possible combinations of two or more\n",
    "# sets (here lists), the total number of combos should be the product\n",
    "# of both list lengths\n",
    "\n",
    "A = [1, 3, 5]\n",
    "B = [2, 4, 6]\n",
    "\n",
    "cartesian_product = [(a, b) for a in A for b in B]\n",
    "print()\n",
    "print(cartesian_product)"
   ]
  },
  {
   "cell_type": "markdown",
   "metadata": {},
   "source": [
    "## 2. Dictionaries\n",
    "---\n",
    "* Dictionaries (aka: associative array or map in other languages)\n",
    "* Use dicts when input/output (aka key/value ) are desired \n",
    "* Order does not matter. If order does matter and still need key/val pairs use list of dicts\n",
    "* Dictionary key value search is much faster than list element search"
   ]
  },
  {
   "cell_type": "code",
   "execution_count": 9,
   "metadata": {},
   "outputs": [
    {
     "name": "stdout",
     "output_type": "stream",
     "text": [
      "<class 'dict'>\n",
      "\n",
      "['__class__', '__contains__', '__delattr__', '__delitem__', '__dir__', '__doc__', '__eq__', '__format__', '__ge__', '__getattribute__', '__getitem__', '__gt__', '__hash__', '__init__', '__init_subclass__', '__iter__', '__le__', '__len__', '__lt__', '__ne__', '__new__', '__reduce__', '__reduce_ex__', '__repr__', '__setattr__', '__setitem__', '__sizeof__', '__str__', '__subclasshook__', 'clear', 'copy', 'fromkeys', 'get', 'items', 'keys', 'pop', 'popitem', 'setdefault', 'update', 'values']\n",
      "\n",
      "\n",
      "Help on built-in function update:\n",
      "\n",
      "update(...) method of builtins.dict instance\n",
      "    D.update([E, ]**F) -> None.  Update D from dict/iterable E and F.\n",
      "    If E is present and has a .keys() method, then does:  for k in E: D[k] = E[k]\n",
      "    If E is present and lacks a .keys() method, then does:  for k, v in E: D[k] = v\n",
      "    In either case, this is followed by: for k in F:  D[k] = F[k]\n",
      "\n",
      "None\n"
     ]
    }
   ],
   "source": [
    "dict_ex = dict()\n",
    "# or dict_ex = {}\n",
    "\n",
    "print(type(dict_ex))\n",
    "print()\n",
    "print(dir(dict_ex))\n",
    "print()\n",
    "print()\n",
    "print(help(dict_ex.update))"
   ]
  },
  {
   "cell_type": "code",
   "execution_count": 81,
   "metadata": {},
   "outputs": [
    {
     "name": "stdout",
     "output_type": "stream",
     "text": [
      "{'IBM': 'rules', 'MSFT': 44.11}\n",
      "\n",
      "original dictionary:\n",
      "{'IBM': 'rules', 'MSFT': 44.11, 'CSCO': 25.54}\n",
      "\n",
      "get all keys:\n",
      "IBM\n",
      "MSFT\n",
      "CSCO\n",
      "NFLX\n",
      "\n",
      "IBM = rules\n",
      "MSFT = 44.11\n",
      "CSCO = 25.54\n",
      "NFLX = 95.32\n",
      "\n",
      "get all keys and values:\n",
      "Key : IBM, Value : rules\n",
      "Key : MSFT, Value : 44.11\n",
      "Key : CSCO, Value : 25.54\n",
      "Key : NFLX, Value : 95.32\n"
     ]
    }
   ],
   "source": [
    "# Note that if dict() is used for dictionary creation, keys are set\n",
    "# equal to the vals, with keys having no quotes\n",
    "stocks = dict(IBM = 'rules', MSFT = 44.11)\n",
    "print(stocks)\n",
    "print()\n",
    "\n",
    "# If {} are used for dict creation, then keys need quotes\n",
    "stocks = {'IBM': 'rules', 'MSFT':44.11, 'CSCO':25.54}\n",
    "print('original dictionary:')\n",
    "print(stocks)\n",
    "\n",
    "# Update dictionary\n",
    "stocks.update({'NFLX': 95.32})\n",
    "\n",
    "# Get all keys\n",
    "print(f'\\nget all keys:')\n",
    "for key in stocks:\n",
    "    print(key)\n",
    "\n",
    "print()\n",
    "\n",
    "# Get keys and values 1 (note, .keys() is not needed see above)\n",
    "for key in stocks.keys():\n",
    "    print(f'{key} = {stocks[key]}')\n",
    "\n",
    "# ***IMPORTANT***\n",
    "# To loop through and print out key/val pairs, must use \n",
    "# dict.items() for loop\n",
    "print(f'\\nget all keys and values:')\n",
    "for k, v in stocks.items():\n",
    "    print(f'Key : {k}, Value : {v}')   "
   ]
  },
  {
   "cell_type": "code",
   "execution_count": 83,
   "metadata": {},
   "outputs": [
    {
     "name": "stdout",
     "output_type": "stream",
     "text": [
      "Dicts inside of list\n",
      "[{'IBM': 146.48}, {'MSFT': 44.11}, {'CSCO': 25.54}]\n",
      "\n",
      "get all key value pairs for dicts in list\n",
      "Key : IBM, Val : 146.48\n",
      "Key : MSFT, Val : 44.11\n",
      "Key : CSCO, Val : 25.54\n",
      "\n",
      "Lists Inside of Lists\n",
      "[[1, 2], [3, 4], [5, 6]]\n",
      "index: 0, vals: [1, 2]\n",
      "index: 0, vals: 1\n",
      "index: 1, vals: 2\n",
      "index: 1, vals: [3, 4]\n",
      "index: 0, vals: 3\n",
      "index: 1, vals: 4\n",
      "index: 2, vals: [5, 6]\n",
      "index: 0, vals: 5\n",
      "index: 1, vals: 6\n"
     ]
    }
   ],
   "source": [
    "# Dictionaries inside of lists\n",
    "\n",
    "print(\"Dicts inside of list\")\n",
    "dict_list = [{'IBM': 146.48}, {'MSFT':44.11}, {'CSCO':25.54}]\n",
    "print(dict_list)\n",
    "\n",
    "# Single dict access is like:\n",
    "# dict_list[0]['IBM']\n",
    "\n",
    "print(f'\\nget all key value pairs for dicts in list')\n",
    "for d in dict_list:\n",
    "    for k, v in d.items():\n",
    "        print(f'Key : {k}, Val : {v}')\n",
    "        \n",
    "# Lists in Lists\n",
    "print(f\"\\nLists Inside of Lists\")\n",
    "listsNlist = [[1, 2],[3, 4],[5, 6]]\n",
    "print(listsNlist)\n",
    "\n",
    "for ind, vals in enumerate(listsNlist):\n",
    "    print(f'index: {ind}, vals: {vals}')\n",
    "    for i, v in enumerate(listsNlist[ind]):\n",
    "        print(f'index: {i}, vals: {v}')"
   ]
  },
  {
   "cell_type": "code",
   "execution_count": 9,
   "metadata": {},
   "outputs": [
    {
     "name": "stdout",
     "output_type": "stream",
     "text": [
      "<class 'dict'>\n",
      "{0: 0, 1: 1, 2: 4, 3: 9, 4: 16, 5: 25, 6: 36, 7: 49, 8: 64, 9: 81}\n"
     ]
    }
   ],
   "source": [
    "# Dictionary Comprehensions (note {} used instead of [] )\n",
    "testDict = {i: i * i for i in range(10)}\n",
    "\n",
    "print(type(testDict))\n",
    "print(testDict)"
   ]
  },
  {
   "cell_type": "markdown",
   "metadata": {},
   "source": [
    "## 3. Sets\n",
    "---\n",
    "* Sets are used when order does not matter and there are no duplicate entries \n",
    "* Sets cannot contain multiple other sets, lists, dicts, or tuples\n",
    "* Set element searches are much faster than lists"
   ]
  },
  {
   "cell_type": "code",
   "execution_count": 20,
   "metadata": {},
   "outputs": [
    {
     "name": "stdout",
     "output_type": "stream",
     "text": [
      "['__and__', '__class__', '__contains__', '__delattr__', '__dir__', '__doc__', '__eq__', '__format__', '__ge__', '__getattribute__', '__gt__', '__hash__', '__iand__', '__init__', '__init_subclass__', '__ior__', '__isub__', '__iter__', '__ixor__', '__le__', '__len__', '__lt__', '__ne__', '__new__', '__or__', '__rand__', '__reduce__', '__reduce_ex__', '__repr__', '__ror__', '__rsub__', '__rxor__', '__setattr__', '__sizeof__', '__str__', '__sub__', '__subclasshook__', '__xor__', 'add', 'clear', 'copy', 'difference', 'difference_update', 'discard', 'intersection', 'intersection_update', 'isdisjoint', 'issubset', 'issuperset', 'pop', 'remove', 'symmetric_difference', 'symmetric_difference_update', 'union', 'update']\n",
      "\n",
      "Help for add function descripton:\n",
      "\n",
      "Help on built-in function add:\n",
      "\n",
      "add(...) method of builtins.set instance\n",
      "    Add an element to a set.\n",
      "    \n",
      "    This has no effect if the element is already present.\n",
      "\n",
      "None\n"
     ]
    }
   ],
   "source": [
    "set_ex = set()\n",
    "\n",
    "# Use set_ex.<TAB> OR dir(set_ex) to see built-in set methods\n",
    "print(dir(set_ex))\n",
    "\n",
    "print(f'\\nHelp for add function descripton:\\n')\n",
    "\n",
    "# To see how to use a particular function use help(set.function)\n",
    "print(help(set_ex.add))"
   ]
  },
  {
   "cell_type": "code",
   "execution_count": 26,
   "metadata": {},
   "outputs": [
    {
     "name": "stdout",
     "output_type": "stream",
     "text": [
      "<class 'set'>\n",
      "{False, 42, 3.14159, 'Thoreum'}\n",
      "None\n"
     ]
    }
   ],
   "source": [
    "# Adding Elements to set (duplicates not allowed)\n",
    "# Note that order added is not necessarily order returned in set\n",
    "\n",
    "print(type(set_ex))\n",
    "set_ex.add(42)\n",
    "set_ex.add(False)\n",
    "set_ex.add(3.14159)\n",
    "set_ex.add('Thoreum')\n",
    "print(set_ex)\n",
    "\n",
    "# To remove all elements from a set at once, use clear()\n",
    "print(set_ex.clear())"
   ]
  },
  {
   "cell_type": "code",
   "execution_count": 22,
   "metadata": {},
   "outputs": [
    {
     "name": "stdout",
     "output_type": "stream",
     "text": [
      "<class 'set'>\n",
      "{0, 2, 4, 6, 8, 10, 12, 14, 16, 18}\n"
     ]
    }
   ],
   "source": [
    "# Set comprehension\n",
    "testSet = {i * 2 for i in range(10)}\n",
    "print(testSet)"
   ]
  },
  {
   "cell_type": "code",
   "execution_count": 1,
   "metadata": {},
   "outputs": [
    {
     "name": "stdout",
     "output_type": "stream",
     "text": [
      "{1, 2, 3, 4, 5, 6, 7, 8, 9, 10}\n",
      "{1, 2, 3, 4, 5, 6, 7, 8, 9, 10}\n",
      "{3, 5, 7}\n",
      "{2}\n",
      "set()\n",
      "{2, 3, 4, 5, 6, 7, 8, 9, 10}\n",
      "True\n",
      "False\n",
      "True\n"
     ]
    }
   ],
   "source": [
    "# Sets and Union + Intersection\n",
    "odds = set({1, 3, 5, 7, 9})\n",
    "evens = set({2, 4, 6, 8, 10})\n",
    "primes = set({2, 3, 5, 7})        # primes only divide by 1 and itself\n",
    "composite = set({4, 6, 8, 9, 10}) # composites can be factored\n",
    "\n",
    "print(odds.union(evens))\n",
    "print(evens.union(odds))\n",
    "print(odds.intersection(primes))\n",
    "print(primes.intersection(evens))\n",
    "print(evens.intersection(odds)) # returns empty set\n",
    "print(primes.union(composite))\n",
    "print(2 in primes)\n",
    "print(6 in odds)\n",
    "print(9 not in evens)"
   ]
  },
  {
   "cell_type": "markdown",
   "metadata": {},
   "source": [
    "## 4. Tuples\n",
    "---\n",
    "* Tuples are immutable (can't, add, remove, or change data)\n",
    "* Tuples only have 2 methods available to them (count, index)\n",
    "* Tuples are therefore faster than lists as they contain less overhead"
   ]
  },
  {
   "cell_type": "code",
   "execution_count": 89,
   "metadata": {},
   "outputs": [
    {
     "name": "stdout",
     "output_type": "stream",
     "text": [
      "<class 'tuple'>\n",
      "\n",
      "['__add__', '__class__', '__contains__', '__delattr__', '__dir__', '__doc__', '__eq__', '__format__', '__ge__', '__getattribute__', '__getitem__', '__getnewargs__', '__gt__', '__hash__', '__init__', '__init_subclass__', '__iter__', '__le__', '__len__', '__lt__', '__mul__', '__ne__', '__new__', '__reduce__', '__reduce_ex__', '__repr__', '__rmul__', '__setattr__', '__sizeof__', '__str__', '__subclasshook__', 'count', 'index']\n",
      "\n",
      "Help for count descripton:\n",
      "\n",
      "Help on built-in function count:\n",
      "\n",
      "count(value, /) method of builtins.tuple instance\n",
      "    Return number of occurrences of value.\n",
      "\n",
      "None\n"
     ]
    }
   ],
   "source": [
    "tup_ex = tuple()\n",
    "tup_ex = ()\n",
    "\n",
    "print(type(tup_ex))\n",
    "print()\n",
    "\n",
    "# set_ex.<TAB> OR dir(tup_ex) to see built-in tuple methods\n",
    "print(dir(tup_ex))\n",
    "\n",
    "print(f'\\nHelp for count descripton:\\n')\n",
    "\n",
    "# To see how to use a particular function use help(set.function)\n",
    "print(help(tup_ex.count))"
   ]
  },
  {
   "cell_type": "code",
   "execution_count": 94,
   "metadata": {},
   "outputs": [
    {
     "name": "stdout",
     "output_type": "stream",
     "text": [
      "List Size = 128\n",
      "Tuple Size = 112\n",
      "\n",
      "Time to make 1 million lists vs 1 million tuples\n",
      "List Time: 0.08735619999970368\n",
      "Tuple Time: 0.011319600000206265\n"
     ]
    }
   ],
   "source": [
    "import sys\n",
    "import timeit\n",
    "\n",
    "# Size difference example between list and tuple\n",
    "# Note that for small data sets, not a big deal, but tuples will\n",
    "# really start outperfomings lists with large data sets\n",
    "\n",
    "l = [1, 2, 3, 'a', 'b', 'c', True, 3.14159]\n",
    "t = (1, 2, 3, 'a', 'b', 'c', True, 3.14159)\n",
    "\n",
    "print(f'List Size = {sys.getsizeof(l)}')\n",
    "print(f'Tuple Size = {sys.getsizeof(t)}')\n",
    "\n",
    "print()\n",
    "print('Time to make 1 million lists vs 1 million tuples')\n",
    "list_test = timeit.timeit(stmt='[1, 2, 3, 4, 5]', number = 1000000)\n",
    "tupl_test = timeit.timeit(stmt='(1, 2, 3, 4, 5)', number = 1000000)\n",
    "print(f'List Time: {list_test}')\n",
    "print(f'Tuple Time: {tupl_test}')\n",
    "\n",
    "# Note that tuples are created 800% faster than lists"
   ]
  },
  {
   "cell_type": "code",
   "execution_count": 12,
   "metadata": {},
   "outputs": [
    {
     "name": "stdout",
     "output_type": "stream",
     "text": [
      "()\n",
      "('a', 'a')\n",
      "('a', 'b')\n",
      "('a', 'b', 'c')\n",
      "('a',)\n"
     ]
    }
   ],
   "source": [
    "# Tuple creation \n",
    "empty_t = ()\n",
    "t1 = ('a', 'a')\n",
    "t2 = ('a', 'b')\n",
    "t3 = ('a', 'b', 'c')\n",
    "\n",
    "print(empty_t)\n",
    "print(t1)\n",
    "print(t2)\n",
    "print(t3)\n",
    "\n",
    "# Note that when only 1 element in tuple a string is returned, not a tuple\n",
    "# to make this a tuple, must have a , after the the element\n",
    "t1 = ('a', )\n",
    "print(t1)"
   ]
  },
  {
   "cell_type": "code",
   "execution_count": 101,
   "metadata": {},
   "outputs": [
    {
     "name": "stdout",
     "output_type": "stream",
     "text": [
      "survey 1\n",
      "age: 27\n",
      "country: Vietnam\n",
      "knows python: True\n",
      "\n",
      "survey 2\n",
      "age: 21\n",
      "country: England\n",
      "knows python: False\n"
     ]
    }
   ],
   "source": [
    "# Tuples can be indexed like lists\n",
    "survey = (27, 'Vietnam', True)\n",
    "age = survey[0]\n",
    "country = survey[1]\n",
    "knows_python = survey[2]\n",
    "print('survey 1')\n",
    "print(f'age: {age}')\n",
    "print(f'country: {country}')\n",
    "print(f'knows python: {knows_python}')\n",
    "\n",
    "print()\n",
    "\n",
    "# Faster way to assign than above\n",
    "survey2 = (21, 'England', False)\n",
    "age, country, knows_python = survey2\n",
    "print('survey 2')\n",
    "print(f'age: {age}')\n",
    "print(f'country: {country}')\n",
    "print(f'knows python: {knows_python}')"
   ]
  },
  {
   "cell_type": "markdown",
   "metadata": {},
   "source": [
    "## 5. Map\n",
    "---\n",
    "**Map is a built-in Python function that takes two arguments (function, iterable), applies the function argument to every item of the iterable, and returns the result as a map object**\n",
    "<br>\n",
    "<br>\n",
    "**The returned map object then needs to be converted back to the original iterable type to get the results in the proper format**"
   ]
  },
  {
   "cell_type": "code",
   "execution_count": 20,
   "metadata": {},
   "outputs": [
    {
     "name": "stdout",
     "output_type": "stream",
     "text": [
      "<map object at 0x000002054C508188>\n",
      "\n",
      "[2, 4, 6, 8]\n",
      "\n",
      "[2, 4, 6, 8]\n"
     ]
    }
   ],
   "source": [
    "# This example takes a list of ints and adds each element to itself\n",
    "sums = [1, 2, 3, 4]\n",
    "\n",
    "def sum(num):\n",
    "    return(num + num)\n",
    "\n",
    "# map() returns a map object\n",
    "map_obj = map(sum, sums) \n",
    "print(map_obj)\n",
    "\n",
    "print()\n",
    "\n",
    "# To show results, map_obj is converted back into a list\n",
    "map_list = list(map_obj)\n",
    "print(map_list)\n",
    "\n",
    "print()\n",
    "\n",
    "# Note that both steps could have been performed at once:\n",
    "print(list(map(sum,sums)))"
   ]
  },
  {
   "cell_type": "code",
   "execution_count": 51,
   "metadata": {},
   "outputs": [
    {
     "name": "stdout",
     "output_type": "stream",
     "text": [
      "String list converted to int list using map:\n",
      "\n",
      "<class 'str'>\n",
      "['56', '14', '25', '154']\n",
      "\n",
      "<class 'int'>\n",
      "[56, 14, 25, 154]\n",
      "\n",
      "-------------------------------------------\n",
      "\n",
      "Integer list converted to str list using map:\n",
      "\n",
      "<class 'int'>\n",
      "[56, 14, 25, 154]\n",
      "\n",
      "<class 'str'>\n",
      "['56', '14', '25', '154']\n"
     ]
    }
   ],
   "source": [
    "# String iterables can be converted to numerical values with map\n",
    "str_nums = ['56', '14', '25', '154']\n",
    "\n",
    "print('String list converted to int list using map:\\n')\n",
    "print(type(str_nums[0]))\n",
    "print(str_nums)\n",
    "\n",
    "print()\n",
    "\n",
    "# Convert list elements from string to int\n",
    "str_nums = list(map(int, str_nums))\n",
    "print(type(str_nums[0]))\n",
    "print(str_nums)\n",
    "\n",
    "\n",
    "print('\\n-------------------------------------------\\n')\n",
    "\n",
    "# Conversely, int lists can also be converted to strings\n",
    "int_nums = [56, 14, 25, 154]\n",
    "\n",
    "print('Integer list converted to str list using map:\\n')\n",
    "print(type(int_nums[0]))\n",
    "print(int_nums)\n",
    "\n",
    "print()\n",
    "\n",
    "# Converts list elements from int to str\n",
    "int_nums = list(map(str, int_nums))\n",
    "print(type(int_nums[0]))\n",
    "print(int_nums)"
   ]
  },
  {
   "cell_type": "markdown",
   "metadata": {},
   "source": [
    "## 6. Filter\n",
    "---\n",
    "**Filter is a built-in Python function that takes two arguments (function, iterable), and constructs an interator from the elements of the give interable argument for which the function argument returns true.**\n",
    "\n",
    "**Put simply filters return iterators based on specified conditions being true**"
   ]
  },
  {
   "cell_type": "code",
   "execution_count": 12,
   "metadata": {},
   "outputs": [
    {
     "name": "stdout",
     "output_type": "stream",
     "text": [
      "<class 'filter'>\n",
      "<filter object at 0x000002AF9A73CF88>\n",
      "[18, 24, 32]\n"
     ]
    }
   ],
   "source": [
    "# This filter() example takes a list of ages and filters out those < 18\n",
    "ages = [5, 12, 17, 18, 24, 32]\n",
    "\n",
    "def myFunc(x):\n",
    "    if x < 18:\n",
    "        return False\n",
    "    else:\n",
    "        return True\n",
    "\n",
    "adults = filter(myFunc, ages)\n",
    "\n",
    "print(type(adults))\n",
    "print(adults)\n",
    "\n",
    "print(list(adults))"
   ]
  },
  {
   "cell_type": "code",
   "execution_count": 59,
   "metadata": {},
   "outputs": [
    {
     "data": {
      "text/plain": [
       "['Argentina', 'Brazil', 'Chile', 'Columbia']"
      ]
     },
     "execution_count": 59,
     "metadata": {},
     "output_type": "execute_result"
    }
   ],
   "source": [
    "# filter() can also be used to remove empty or erroneous values\n",
    "# Note that '', 0, 0.0, 0j, [], (), {}, False, None are all False values\n",
    "\n",
    "countries = ['', 'Argentina', '', 'Brazil', 'Chile', '', 'Columbia']\n",
    "list(filter(None, countries))"
   ]
  },
  {
   "cell_type": "markdown",
   "metadata": {},
   "source": [
    "## 7. Lambda Functions (aka: Anonymous Functions)\n",
    "---\n",
    "**Lambda functions are small anonymous functions that can take any number of arguments, but can only have one expression. Lambdas can greatly simplify code, but, can get confusing to read if they are not kept simple (similar to list comprehensions)**"
   ]
  },
  {
   "cell_type": "code",
   "execution_count": 74,
   "metadata": {},
   "outputs": [
    {
     "name": "stdout",
     "output_type": "stream",
     "text": [
      "81\n",
      "\n",
      "81\n"
     ]
    }
   ],
   "source": [
    "# Creating lambda functions\n",
    "\n",
    "num = 9\n",
    "\n",
    "# Here is a regular function that adds the entered argument to itself\n",
    "def f(x):\n",
    "    return(x * x)\n",
    "\n",
    "print(f(9))\n",
    "\n",
    "print()\n",
    "\n",
    "# Here is a lambda function performing the same math iin one line\n",
    "# Note a lambda function takes this format: lambda (arg/args):(expression)\n",
    "# Below x is the only arg and x * x is the expression. There can only be one\n",
    "# expression, but any number of args\n",
    "g = lambda x: x * x\n",
    "\n",
    "# Note that the function itself has no name but it is set to a variable g\n",
    "# which in effect becomes the functions name\n",
    "print(g(9))"
   ]
  },
  {
   "cell_type": "code",
   "execution_count": 77,
   "metadata": {},
   "outputs": [
    {
     "data": {
      "text/plain": [
       "['Douglas Adams',\n",
       " 'Isaac Asimov',\n",
       " 'Leigh Brackett',\n",
       " 'Ray Bradbury',\n",
       " 'Orson Scott Card',\n",
       " 'Arthur C. Clarke',\n",
       " 'Robert Heinleing',\n",
       " 'Frank Herbert',\n",
       " 'H. G. Wells']"
      ]
     },
     "execution_count": 77,
     "metadata": {},
     "output_type": "execute_result"
    }
   ],
   "source": [
    "# In the above example the lambda function was given the name g, however\n",
    "# this is not needed (thus the anonoymous part)\n",
    "\n",
    "# This example uses list of authors and seeks to sort them by last name\n",
    "authors = ['Isaac Asimov', 'Robert Heinleing', 'Arthur C. Clarke',\n",
    "          'Orson Scott Card', 'Douglas Adams', 'H. G. Wells', \n",
    "           'Leigh Brackett', 'Ray Bradbury', 'Frank Herbert']\n",
    "\n",
    "\n",
    "# This example uses an anonymous function to extract the last name \n",
    "# and usees that as the sorting value\n",
    "# Note that key is not the functions name, but rather a keyword used \n",
    "# within the sort() function\n",
    "authors.sort(key=lambda name: name.split(\" \")[-1].lower())\n",
    "authors"
   ]
  },
  {
   "cell_type": "code",
   "execution_count": 78,
   "metadata": {},
   "outputs": [
    {
     "name": "stdout",
     "output_type": "stream",
     "text": [
      "-5\n",
      "0\n",
      "9\n"
     ]
    },
    {
     "data": {
      "text/plain": [
       "13"
      ]
     },
     "execution_count": 78,
     "metadata": {},
     "output_type": "execute_result"
    }
   ],
   "source": [
    "# In this example, a lambda function  is used as the return value \n",
    "# for a regular python function\n",
    "\n",
    "# This is similar to anonymous callbacks in javascript where the \n",
    "# anonymous function resides inside of another function\n",
    "\n",
    "def build_quadratic_function(a , b, c):\n",
    "    \"\"\"Returns the function f(x) = ax^2 + bx + c\"\"\" #doc string\n",
    "    return(lambda x: a*x**2 + b*x + c)\n",
    "\n",
    "f = build_quadratic_function(2, 3, -5)\n",
    "\n",
    "# Note the param passed into f() is used inside of the\n",
    "# build_quadratic_function() function \n",
    "print(f(0))\n",
    "print(f(1))\n",
    "print(f(2))\n",
    "\n",
    "# This function does not need to be set to a var\n",
    "build_quadratic_function(3, 0, 1)(2)"
   ]
  },
  {
   "cell_type": "markdown",
   "metadata": {},
   "source": [
    "## 8. Reduce\n",
    "---\n",
    "### Important\n",
    "**The reduce function has been dropped as a built-in for Python 3, however it was in Python 2 and may still be seen in legacy code. It must be imported from functools in Python 3 but its use is not recommended**\n",
    "\n",
    "* Simlarly to map(), reduce() takes two args (function, iterable), but reduce applies the function argument cumulatively to all elements in the iterable argument."
   ]
  },
  {
   "cell_type": "code",
   "execution_count": 67,
   "metadata": {},
   "outputs": [
    {
     "name": "stdout",
     "output_type": "stream",
     "text": [
      "15\n"
     ]
    }
   ],
   "source": [
    "from functools import reduce\n",
    "\n",
    "nums = [1, 2, 3, 4, 5]\n",
    "\n",
    "cumulative_sum = reduce(lambda x, y: x+y, nums)\n",
    "\n",
    "print(cumulative_sum)"
   ]
  }
 ],
 "metadata": {
  "kernelspec": {
   "display_name": "Python 3",
   "language": "python",
   "name": "python3"
  },
  "language_info": {
   "codemirror_mode": {
    "name": "ipython",
    "version": 3
   },
   "file_extension": ".py",
   "mimetype": "text/x-python",
   "name": "python",
   "nbconvert_exporter": "python",
   "pygments_lexer": "ipython3",
   "version": "3.7.6"
  }
 },
 "nbformat": 4,
 "nbformat_minor": 2
}
